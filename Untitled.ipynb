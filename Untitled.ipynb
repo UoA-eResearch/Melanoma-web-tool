{
 "cells": [
  {
   "cell_type": "code",
   "execution_count": 2,
   "id": "61282301-e483-4290-80b0-4aea80e89ef2",
   "metadata": {},
   "outputs": [
    {
     "name": "stderr",
     "output_type": "stream",
     "text": [
      "  1%|▉                                                                                         | 1/92 [00:00<01:23,  1.09it/s]"
     ]
    },
    {
     "name": "stdout",
     "output_type": "stream",
     "text": [
      "public/data/Heat_maps/discrete_points_normalized/ltis_fre_2.json False\n"
     ]
    },
    {
     "name": "stderr",
     "output_type": "stream",
     "text": [
      "  3%|██▉                                                                                       | 3/92 [00:01<00:48,  1.83it/s]"
     ]
    },
    {
     "name": "stdout",
     "output_type": "stream",
     "text": [
      "public/data/Heat_maps/discrete_points_normalized/rtis_fre_2.json False\n"
     ]
    },
    {
     "name": "stderr",
     "output_type": "stream",
     "text": [
      "  5%|████▉                                                                                     | 5/92 [00:02<00:41,  2.08it/s]"
     ]
    },
    {
     "name": "stdout",
     "output_type": "stream",
     "text": [
      "public/data/Heat_maps/discrete_points_normalized/lc1_fre_2.json False\n"
     ]
    },
    {
     "name": "stderr",
     "output_type": "stream",
     "text": [
      "  9%|███████▊                                                                                  | 8/92 [00:03<00:31,  2.66it/s]"
     ]
    },
    {
     "name": "stdout",
     "output_type": "stream",
     "text": [
      "public/data/Heat_maps/discrete_points_normalized/4NFS_fre_2.json True\n"
     ]
    },
    {
     "name": "stderr",
     "output_type": "stream",
     "text": [
      " 11%|█████████▋                                                                               | 10/92 [00:04<00:32,  2.54it/s]"
     ]
    },
    {
     "name": "stdout",
     "output_type": "stream",
     "text": [
      "public/data/Heat_maps/discrete_points_normalized/2NFS_fre_2.json True\n"
     ]
    },
    {
     "name": "stderr",
     "output_type": "stream",
     "text": [
      " 13%|███████████▌                                                                             | 12/92 [00:05<00:32,  2.48it/s]"
     ]
    },
    {
     "name": "stdout",
     "output_type": "stream",
     "text": [
      "public/data/Heat_maps/discrete_points_normalized/3NFS_fre_2.json True\n",
      "public/data/Heat_maps/discrete_points_normalized/all_freq_fre_2.json False\n"
     ]
    },
    {
     "name": "stderr",
     "output_type": "stream",
     "text": [
      " 16%|██████████████▌                                                                          | 15/92 [00:06<00:28,  2.75it/s]"
     ]
    },
    {
     "name": "stdout",
     "output_type": "stream",
     "text": [
      "public/data/Heat_maps/discrete_points_normalized/1NFS_fre_2.json True\n"
     ]
    },
    {
     "name": "stderr",
     "output_type": "stream",
     "text": [
      " 25%|██████████████████████▎                                                                  | 23/92 [00:11<00:49,  1.38it/s]"
     ]
    },
    {
     "name": "stdout",
     "output_type": "stream",
     "text": [
      "public/data/Heat_maps/discrete_points_normalized/la_fre_2.json True\n"
     ]
    },
    {
     "name": "stderr",
     "output_type": "stream",
     "text": [
      " 33%|█████████████████████████████                                                            | 30/92 [00:17<00:49,  1.25it/s]"
     ]
    },
    {
     "name": "stdout",
     "output_type": "stream",
     "text": [
      "public/data/Heat_maps/discrete_points_normalized/la_fre_2.json True\n"
     ]
    },
    {
     "name": "stderr",
     "output_type": "stream",
     "text": [
      " 35%|██████████████████████████████▉                                                          | 32/92 [00:17<00:38,  1.57it/s]"
     ]
    },
    {
     "name": "stdout",
     "output_type": "stream",
     "text": [
      "public/data/Heat_maps/discrete_points_normalized/ra_fre_2.json True\n"
     ]
    },
    {
     "name": "stderr",
     "output_type": "stream",
     "text": [
      " 37%|████████████████████████████████▉                                                        | 34/92 [00:18<00:32,  1.80it/s]"
     ]
    },
    {
     "name": "stdout",
     "output_type": "stream",
     "text": [
      "public/data/Heat_maps/discrete_points_normalized/ri_fre_2.json True\n"
     ]
    },
    {
     "name": "stderr",
     "output_type": "stream",
     "text": [
      " 40%|███████████████████████████████████▊                                                     | 37/92 [00:19<00:24,  2.28it/s]"
     ]
    },
    {
     "name": "stdout",
     "output_type": "stream",
     "text": [
      "public/data/Heat_maps/discrete_points_normalized/li_fre_2.json True\n"
     ]
    },
    {
     "name": "stderr",
     "output_type": "stream",
     "text": [
      " 41%|████████████████████████████████████▊                                                    | 38/92 [00:20<00:28,  1.89it/s]"
     ]
    },
    {
     "name": "stdout",
     "output_type": "stream",
     "text": [
      "Duplicate Left Groin Frequency\n",
      "public/data/Heat_maps/discrete_points_normalized/li_fre_2.json True\n"
     ]
    },
    {
     "name": "stderr",
     "output_type": "stream",
     "text": [
      " 43%|██████████████████████████████████████▋                                                  | 40/92 [00:21<00:24,  2.12it/s]"
     ]
    },
    {
     "name": "stdout",
     "output_type": "stream",
     "text": [
      "public/data/Heat_maps/discrete_points_normalized/lepit_fre_2.json False\n"
     ]
    },
    {
     "name": "stderr",
     "output_type": "stream",
     "text": [
      " 46%|████████████████████████████████████████▋                                                | 42/92 [00:22<00:22,  2.26it/s]"
     ]
    },
    {
     "name": "stdout",
     "output_type": "stream",
     "text": [
      "public/data/Heat_maps/discrete_points_normalized/repit_fre_2.json False\n"
     ]
    },
    {
     "name": "stderr",
     "output_type": "stream",
     "text": [
      " 48%|██████████████████████████████████████████▌                                              | 44/92 [00:22<00:20,  2.31it/s]"
     ]
    },
    {
     "name": "stdout",
     "output_type": "stream",
     "text": [
      "public/data/Heat_maps/discrete_points_normalized/posterior_head_fre_2.json False\n"
     ]
    },
    {
     "name": "stderr",
     "output_type": "stream",
     "text": [
      " 50%|████████████████████████████████████████████▌                                            | 46/92 [00:23<00:19,  2.32it/s]"
     ]
    },
    {
     "name": "stdout",
     "output_type": "stream",
     "text": [
      "public/data/Heat_maps/discrete_points_normalized/anterior_head_fre_2.json False\n"
     ]
    },
    {
     "name": "stderr",
     "output_type": "stream",
     "text": [
      " 54%|████████████████████████████████████████████████▎                                        | 50/92 [00:26<00:27,  1.50it/s]"
     ]
    },
    {
     "name": "stdout",
     "output_type": "stream",
     "text": [
      "public/data/Heat_maps/discrete_points_normalized/lc2_fre_2.json False\n"
     ]
    },
    {
     "name": "stderr",
     "output_type": "stream",
     "text": [
      " 57%|██████████████████████████████████████████████████▎                                      | 52/92 [00:27<00:24,  1.64it/s]"
     ]
    },
    {
     "name": "stdout",
     "output_type": "stream",
     "text": [
      "public/data/Heat_maps/discrete_points_normalized/lc3_fre_2.json False\n"
     ]
    },
    {
     "name": "stderr",
     "output_type": "stream",
     "text": [
      " 59%|████████████████████████████████████████████████████▏                                    | 54/92 [00:29<00:24,  1.57it/s]"
     ]
    },
    {
     "name": "stdout",
     "output_type": "stream",
     "text": [
      "public/data/Heat_maps/discrete_points_normalized/lc4_fre_2.json False\n"
     ]
    },
    {
     "name": "stderr",
     "output_type": "stream",
     "text": [
      " 61%|██████████████████████████████████████████████████████▏                                  | 56/92 [00:30<00:20,  1.72it/s]"
     ]
    },
    {
     "name": "stdout",
     "output_type": "stream",
     "text": [
      "public/data/Heat_maps/discrete_points_normalized/lc5_fre_2.json False\n"
     ]
    },
    {
     "name": "stderr",
     "output_type": "stream",
     "text": [
      " 63%|████████████████████████████████████████████████████████                                 | 58/92 [00:31<00:18,  1.86it/s]"
     ]
    },
    {
     "name": "stdout",
     "output_type": "stream",
     "text": [
      "public/data/Heat_maps/discrete_points_normalized/rc1_fre_2.json False\n"
     ]
    },
    {
     "name": "stderr",
     "output_type": "stream",
     "text": [
      " 65%|██████████████████████████████████████████████████████████                               | 60/92 [00:32<00:16,  1.99it/s]"
     ]
    },
    {
     "name": "stdout",
     "output_type": "stream",
     "text": [
      "public/data/Heat_maps/discrete_points_normalized/rc2_fre_2.json False\n"
     ]
    },
    {
     "name": "stderr",
     "output_type": "stream",
     "text": [
      " 67%|███████████████████████████████████████████████████████████▉                             | 62/92 [00:32<00:14,  2.09it/s]"
     ]
    },
    {
     "name": "stdout",
     "output_type": "stream",
     "text": [
      "public/data/Heat_maps/discrete_points_normalized/rc3_fre_2.json False\n"
     ]
    },
    {
     "name": "stderr",
     "output_type": "stream",
     "text": [
      " 70%|█████████████████████████████████████████████████████████████▉                           | 64/92 [00:33<00:13,  2.11it/s]"
     ]
    },
    {
     "name": "stdout",
     "output_type": "stream",
     "text": [
      "public/data/Heat_maps/discrete_points_normalized/rc4_fre_2.json False\n"
     ]
    },
    {
     "name": "stderr",
     "output_type": "stream",
     "text": [
      " 72%|███████████████████████████████████████████████████████████████▊                         | 66/92 [00:34<00:12,  2.10it/s]"
     ]
    },
    {
     "name": "stdout",
     "output_type": "stream",
     "text": [
      "public/data/Heat_maps/discrete_points_normalized/rc5_fre_2.json False\n"
     ]
    },
    {
     "name": "stderr",
     "output_type": "stream",
     "text": [
      " 74%|█████████████████████████████████████████████████████████████████▊                       | 68/92 [00:35<00:10,  2.19it/s]"
     ]
    },
    {
     "name": "stdout",
     "output_type": "stream",
     "text": [
      "public/data/Heat_maps/discrete_points_normalized/rprea_fre_2.json False\n"
     ]
    },
    {
     "name": "stderr",
     "output_type": "stream",
     "text": [
      " 76%|███████████████████████████████████████████████████████████████████▋                     | 70/92 [00:36<00:09,  2.29it/s]"
     ]
    },
    {
     "name": "stdout",
     "output_type": "stream",
     "text": [
      "public/data/Heat_maps/discrete_points_normalized/lprea_fre_2.json False\n"
     ]
    },
    {
     "name": "stderr",
     "output_type": "stream",
     "text": [
      " 78%|█████████████████████████████████████████████████████████████████████▋                   | 72/92 [00:37<00:08,  2.40it/s]"
     ]
    },
    {
     "name": "stdout",
     "output_type": "stream",
     "text": [
      "public/data/Heat_maps/discrete_points_normalized/sm_fre_2.json False\n"
     ]
    },
    {
     "name": "stderr",
     "output_type": "stream",
     "text": [
      " 80%|███████████████████████████████████████████████████████████████████████▌                 | 74/92 [00:37<00:07,  2.39it/s]"
     ]
    },
    {
     "name": "stdout",
     "output_type": "stream",
     "text": [
      "public/data/Heat_maps/discrete_points_normalized/lo_fre_2.json False\n"
     ]
    },
    {
     "name": "stderr",
     "output_type": "stream",
     "text": [
      " 83%|█████████████████████████████████████████████████████████████████████████▌               | 76/92 [00:38<00:06,  2.36it/s]"
     ]
    },
    {
     "name": "stdout",
     "output_type": "stream",
     "text": [
      "public/data/Heat_maps/discrete_points_normalized/ro_fre_2.json False\n"
     ]
    },
    {
     "name": "stderr",
     "output_type": "stream",
     "text": [
      " 85%|███████████████████████████████████████████████████████████████████████████▍             | 78/92 [00:39<00:05,  2.38it/s]"
     ]
    },
    {
     "name": "stdout",
     "output_type": "stream",
     "text": [
      "public/data/Heat_maps/discrete_points_normalized/rposta_fre_2.json False\n"
     ]
    },
    {
     "name": "stderr",
     "output_type": "stream",
     "text": [
      " 87%|█████████████████████████████████████████████████████████████████████████████▍           | 80/92 [00:40<00:05,  2.38it/s]"
     ]
    },
    {
     "name": "stdout",
     "output_type": "stream",
     "text": [
      "public/data/Heat_maps/discrete_points_normalized/lposta_fre_2.json False\n"
     ]
    },
    {
     "name": "stderr",
     "output_type": "stream",
     "text": [
      " 89%|███████████████████████████████████████████████████████████████████████████████▎         | 82/92 [00:41<00:04,  2.37it/s]"
     ]
    },
    {
     "name": "stdout",
     "output_type": "stream",
     "text": [
      "public/data/Heat_maps/discrete_points_normalized/lpop_fre_2.json False\n"
     ]
    },
    {
     "name": "stderr",
     "output_type": "stream",
     "text": [
      " 91%|█████████████████████████████████████████████████████████████████████████████████▎       | 84/92 [00:42<00:04,  1.99it/s]"
     ]
    },
    {
     "name": "stdout",
     "output_type": "stream",
     "text": [
      "public/data/Heat_maps/discrete_points_normalized/rpop_fre_2.json False\n"
     ]
    },
    {
     "name": "stderr",
     "output_type": "stream",
     "text": [
      " 93%|███████████████████████████████████████████████████████████████████████████████████▏     | 86/92 [00:43<00:02,  2.07it/s]"
     ]
    },
    {
     "name": "stdout",
     "output_type": "stream",
     "text": [
      "public/data/Heat_maps/discrete_points_normalized/lsc_fre_2.json False\n"
     ]
    },
    {
     "name": "stderr",
     "output_type": "stream",
     "text": [
      " 98%|███████████████████████████████████████████████████████████████████████████████████████  | 90/92 [00:44<00:00,  2.02it/s]"
     ]
    },
    {
     "name": "stdout",
     "output_type": "stream",
     "text": [
      "public/data/Heat_maps/discrete_points_normalized/rsc_fre_2.json False\n",
      "Duplicate Right Supraclavicular Fossa\n",
      "public/data/Heat_maps/discrete_points_normalized/rsc_fre_2.json False\n",
      "list indices must be integers or slices, not str for [{'GroupName': 'Patient Data', 'GlyphGeometriesURL': 'Heat_maps/discrete_points_frequency/ltis_points_3.json', 'MorphColours': False, 'MorphNormals': False, 'MorphVertices': False, 'RegionPath': 'Left Triangular Intermuscular Space', 'Type': 'Glyph', 'URL': 'Heat_maps/discrete_points_normalized/ltis_points_2.json'}, {'GroupName': 'Patient Data', 'GlyphGeometriesURL': 'Heat_maps/discrete_points_frequency/rtis_points_3.json', 'MorphColours': False, 'MorphNormals': False, 'MorphVertices': False, 'RegionPath': 'Right Triangular Intermuscular Space', 'Type': 'Glyph', 'URL': 'Heat_maps/discrete_points_normalized/rtis_points_2.json'}, {'GroupName': 'Patient Data', 'GlyphGeometriesURL': 'Heat_maps/discrete_points_frequency/lc1_points_3.json', 'MorphColours': False, 'MorphNormals': False, 'MorphVertices': False, 'RegionPath': 'Left Cervical Level I', 'Type': 'Glyph', 'URL': 'Heat_maps/discrete_points_normalized/lc1_points_2.json'}, {'GroupName': 'Patient Data', 'GlyphGeometriesURL': 'Heat_maps/discrete_points_frequency/4NFs_nor_points_3.json', 'MorphColours': False, 'MorphNormals': False, 'MorphVertices': False, 'RegionPath': '4 Or More Draining Node Fields', 'Type': 'Glyph', 'URL': 'Heat_maps/discrete_points_normalized/4NFs_nor_points_2.json'}, {'GroupName': 'Patient Data', 'GlyphGeometriesURL': 'Heat_maps/discrete_points_frequency/2NFs_nor_points_3.json', 'MorphColours': False, 'MorphNormals': False, 'MorphVertices': False, 'RegionPath': '2 Or More Draining Node Fields', 'Type': 'Glyph', 'URL': 'Heat_maps/discrete_points_normalized/2NFs_nor_points_2.json'}, {'GroupName': 'Patient Data', 'GlyphGeometriesURL': 'Heat_maps/discrete_points_frequency/3NFs_points_nor_3.json', 'MorphColours': False, 'MorphNormals': False, 'MorphVertices': False, 'RegionPath': '3 Or More Draining Node Fields', 'Type': 'Glyph', 'URL': 'Heat_maps/discrete_points_normalized/3NFs_nor_points_2.json'}, {'GroupName': 'Patient Data', 'GlyphGeometriesURL': 'Heat_maps/discrete_points_frequency/1NFs_nor_points_3.json', 'MorphColours': False, 'MorphNormals': False, 'MorphVertices': False, 'RegionPath': '1 Draining Node Fields', 'Type': 'Glyph', 'URL': 'Heat_maps/discrete_points_normalized/1NFs_nor_points_2.json'}, {'GroupName': 'Patient Data', 'GlyphGeometriesURL': 'Heat_maps/discrete_points_frequency/la_points_3.json', 'MorphColours': False, 'MorphNormals': False, 'MorphVertices': False, 'RegionPath': 'Left Axilla', 'Type': 'Glyph', 'URL': 'Heat_maps/discrete_points_normalized/la_points_2.json'}, {'GroupName': 'Patient Data', 'GlyphGeometriesURL': 'Heat_maps/discrete_points_frequency/ra_points_3.json', 'MorphColours': False, 'MorphNormals': False, 'MorphVertices': False, 'RegionPath': 'Right Axilla', 'Type': 'Glyph', 'URL': 'Heat_maps/discrete_points_normalized/ra_points_2.json'}, {'GroupName': 'Patient Data', 'GlyphGeometriesURL': 'Heat_maps/discrete_points_frequency/ri_points_3.json', 'MorphColours': False, 'MorphNormals': False, 'MorphVertices': False, 'RegionPath': 'Right Groin', 'Type': 'Glyph', 'URL': 'Heat_maps/discrete_points_normalized/ri_points_2.json'}, {'GroupName': 'Patient Data', 'GlyphGeometriesURL': 'Heat_maps/discrete_points_frequency/li_points_3.json', 'MorphColours': False, 'MorphNormals': False, 'MorphVertices': False, 'RegionPath': 'Left Groin', 'Type': 'Glyph', 'URL': 'Heat_maps/discrete_points_normalized/li_points_2.json'}, {'GroupName': 'Patient Data', 'GlyphGeometriesURL': 'Heat_maps/discrete_points_frequency/li_fre_3.json', 'MorphColours': False, 'MorphNormals': False, 'MorphVertices': False, 'RegionPath': 'Left Groin', 'Type': 'Glyph', 'URL': 'Heat_maps/discrete_points_normalized/li_fre_2.json'}, {'GroupName': 'Patient Data', 'GlyphGeometriesURL': 'Heat_maps/discrete_points_frequency/lepit_points_3.json', 'MorphColours': False, 'MorphNormals': False, 'MorphVertices': False, 'RegionPath': 'Left Epitrochlear', 'Type': 'Glyph', 'URL': 'Heat_maps/discrete_points_normalized/lepit_points_2.json'}, {'GroupName': 'Patient Data', 'GlyphGeometriesURL': 'Heat_maps/discrete_points_frequency/repit_points_3.json', 'MorphColours': False, 'MorphNormals': False, 'MorphVertices': False, 'RegionPath': 'Right Epitrochlear', 'Type': 'Glyph', 'URL': 'Heat_maps/discrete_points_normalized/repit_points_2.json'}, {'GroupName': 'Patient Data', 'GlyphGeometriesURL': 'Heat_maps/discrete_points_frequency/posterior_head_nor_3.json', 'MorphColours': False, 'MorphNormals': False, 'MorphVertices': False, 'RegionPath': 'Posterior Head', 'Type': 'Glyph', 'URL': 'Heat_maps/discrete_points_normalized/posterior_head_nor_2.json'}, {'GroupName': 'Patient Data', 'GlyphGeometriesURL': 'Heat_maps/discrete_points_frequency/anterior_head_nor_3.json', 'MorphColours': False, 'MorphNormals': False, 'MorphVertices': False, 'RegionPath': 'Anterior Head', 'Type': 'Glyph', 'URL': 'Heat_maps/discrete_points_normalized/anterior_head_nor_2.json'}, {'GroupName': 'Patient Data', 'GlyphGeometriesURL': 'Heat_maps/discrete_points_frequency/lc2_points_3.json', 'MorphColours': False, 'MorphNormals': False, 'MorphVertices': False, 'RegionPath': 'Left Cervical Level II', 'Type': 'Glyph', 'URL': 'Heat_maps/discrete_points_normalized/lc2_points_2.json'}, {'GroupName': 'Patient Data', 'GlyphGeometriesURL': 'Heat_maps/discrete_points_frequency/lc3_points_3.json', 'MorphColours': False, 'MorphNormals': False, 'MorphVertices': False, 'RegionPath': 'Left Cervical Level III', 'Type': 'Glyph', 'URL': 'Heat_maps/discrete_points_normalized/lc3_points_2.json'}, {'GroupName': 'Patient Data', 'GlyphGeometriesURL': 'Heat_maps/discrete_points_frequency/lc4_points_3.json', 'MorphColours': False, 'MorphNormals': False, 'MorphVertices': False, 'RegionPath': 'Left Cervical Level IV', 'Type': 'Glyph', 'URL': 'Heat_maps/discrete_points_normalized/lc4_points_2.json'}, {'GroupName': 'Patient Data', 'GlyphGeometriesURL': 'Heat_maps/discrete_points_frequency/lc5_points_3.json', 'MorphColours': False, 'MorphNormals': False, 'MorphVertices': False, 'RegionPath': 'Left Cervical Level V', 'Type': 'Glyph', 'URL': 'Heat_maps/discrete_points_normalized/lc5_points_2.json'}, {'GroupName': 'Patient Data', 'GlyphGeometriesURL': 'Heat_maps/discrete_points_frequency/rc1_points_3.json', 'MorphColours': False, 'MorphNormals': False, 'MorphVertices': False, 'RegionPath': 'Right Cervical Level I', 'Type': 'Glyph', 'URL': 'Heat_maps/discrete_points_normalized/rc1_points_2.json'}, {'GroupName': 'Patient Data', 'GlyphGeometriesURL': 'Heat_maps/discrete_points_frequency/rc2_points_3.json', 'MorphColours': False, 'MorphNormals': False, 'MorphVertices': False, 'RegionPath': 'Right Cervical Level II', 'Type': 'Glyph', 'URL': 'Heat_maps/discrete_points_normalized/rc2_points_2.json'}, {'GroupName': 'Patient Data', 'GlyphGeometriesURL': 'Heat_maps/discrete_points_frequency/rc3_points_3.json', 'MorphColours': False, 'MorphNormals': False, 'MorphVertices': False, 'RegionPath': 'Right Cervical Level III', 'Type': 'Glyph', 'URL': 'Heat_maps/discrete_points_normalized/rc3_points_2.json'}, {'GroupName': 'Patient Data', 'GlyphGeometriesURL': 'Heat_maps/discrete_points_frequency/rc4_points_3.json', 'MorphColours': False, 'MorphNormals': False, 'MorphVertices': False, 'RegionPath': 'Right Cervical Level IV', 'Type': 'Glyph', 'URL': 'Heat_maps/discrete_points_normalized/rc4_points_2.json'}, {'GroupName': 'Patient Data', 'GlyphGeometriesURL': 'Heat_maps/discrete_points_frequency/rc5_points_3.json', 'MorphColours': False, 'MorphNormals': False, 'MorphVertices': False, 'RegionPath': 'Right Cervical Level V', 'Type': 'Glyph', 'URL': 'Heat_maps/discrete_points_normalized/rc5_points_2.json'}, {'GroupName': 'Patient Data', 'GlyphGeometriesURL': 'Heat_maps/discrete_points_frequency/rprea_points_3.json', 'MorphColours': False, 'MorphNormals': False, 'MorphVertices': False, 'RegionPath': 'Right Preauricular', 'Type': 'Glyph', 'URL': 'Heat_maps/discrete_points_normalized/rprea_points_2.json'}, {'GroupName': 'Patient Data', 'GlyphGeometriesURL': 'Heat_maps/discrete_points_frequency/lprea_points_3.json', 'MorphColours': False, 'MorphNormals': False, 'MorphVertices': False, 'RegionPath': 'Left Preauricular', 'Type': 'Glyph', 'URL': 'Heat_maps/discrete_points_normalized/lprea_points_2.json'}, {'GroupName': 'Patient Data', 'GlyphGeometriesURL': 'Heat_maps/discrete_points_frequency/sm_points_3.json', 'MorphColours': False, 'MorphNormals': False, 'MorphVertices': False, 'RegionPath': 'Submental', 'Type': 'Glyph', 'URL': 'Heat_maps/discrete_points_normalized/sm_points_2.json'}, {'GroupName': 'Patient Data', 'GlyphGeometriesURL': 'Heat_maps/discrete_points_frequency/lo_points_3.json', 'MorphColours': False, 'MorphNormals': False, 'MorphVertices': False, 'RegionPath': 'Left Occipital', 'Type': 'Glyph', 'URL': 'Heat_maps/discrete_points_normalized/lo_points_2.json'}, {'GroupName': 'Patient Data', 'GlyphGeometriesURL': 'Heat_maps/discrete_points_frequency/ro_points_3.json', 'MorphColours': False, 'MorphNormals': False, 'MorphVertices': False, 'RegionPath': 'Right Occipital', 'Type': 'Glyph', 'URL': 'Heat_maps/discrete_points_normalized/ro_points_2.json'}, {'GroupName': 'Patient Data', 'GlyphGeometriesURL': 'Heat_maps/discrete_points_frequency/rposta_points_3.json', 'MorphColours': False, 'MorphNormals': False, 'MorphVertices': False, 'RegionPath': 'Right Postauricular', 'Type': 'Glyph', 'URL': 'Heat_maps/discrete_points_normalized/rposta_points_2.json'}, {'GroupName': 'Patient Data', 'GlyphGeometriesURL': 'Heat_maps/discrete_points_frequency/lposta_points_3.json', 'MorphColours': False, 'MorphNormals': False, 'MorphVertices': False, 'RegionPath': 'Left Postauricular', 'Type': 'Glyph', 'URL': 'Heat_maps/discrete_points_normalized/lposta_points_2.json'}, {'GroupName': 'Patient Data', 'GlyphGeometriesURL': 'Heat_maps/discrete_points_frequency/lpop_points_3.json', 'MorphColours': False, 'MorphNormals': False, 'MorphVertices': False, 'RegionPath': 'Left Popliteal', 'Type': 'Glyph', 'URL': 'Heat_maps/discrete_points_normalized/lpop_points_2.json'}, {'GroupName': 'Patient Data', 'GlyphGeometriesURL': 'Heat_maps/discrete_points_frequency/rpop_points_3.json', 'MorphColours': False, 'MorphNormals': False, 'MorphVertices': False, 'RegionPath': 'Right Popliteal', 'Type': 'Glyph', 'URL': 'Heat_maps/discrete_points_normalized/rpop_points_2.json'}, {'GroupName': 'Patient Data', 'GlyphGeometriesURL': 'Heat_maps/discrete_points_frequency/lsc_points_3.json', 'MorphColours': False, 'MorphNormals': False, 'MorphVertices': False, 'RegionPath': 'Left Supraclavicular Fossa', 'Type': 'Glyph', 'URL': 'Heat_maps/discrete_points_normalized/lsc_points_2.json'}, {'GroupName': 'Patient Data', 'GlyphGeometriesURL': 'Heat_maps/discrete_points_frequency/rsc_points_3.json', 'MorphColours': False, 'MorphNormals': False, 'MorphVertices': False, 'RegionPath': 'Right Supraclavicular Fossa', 'Type': 'Glyph', 'URL': 'Heat_maps/discrete_points_normalized/rsc_points_2.json'}]\n"
     ]
    },
    {
     "name": "stderr",
     "output_type": "stream",
     "text": [
      "\n"
     ]
    },
    {
     "ename": "TypeError",
     "evalue": "list indices must be integers or slices, not str",
     "output_type": "error",
     "traceback": [
      "\u001b[1;31m---------------------------------------------------------------------------\u001b[0m",
      "\u001b[1;31mTypeError\u001b[0m                                 Traceback (most recent call last)",
      "Cell \u001b[1;32mIn[2], line 20\u001b[0m\n\u001b[0;32m     18\u001b[0m \u001b[38;5;28;01mfor\u001b[39;00m elem \u001b[38;5;129;01min\u001b[39;00m tqdm(elems):\n\u001b[0;32m     19\u001b[0m     \u001b[38;5;28;01mtry\u001b[39;00m:\n\u001b[1;32m---> 20\u001b[0m         \u001b[38;5;28;01mif\u001b[39;00m \u001b[43melem\u001b[49m\u001b[43m[\u001b[49m\u001b[38;5;124;43m\"\u001b[39;49m\u001b[38;5;124;43mType\u001b[39;49m\u001b[38;5;124;43m\"\u001b[39;49m\u001b[43m]\u001b[49m \u001b[38;5;241m==\u001b[39m \u001b[38;5;124m\"\u001b[39m\u001b[38;5;124mSurfaces\u001b[39m\u001b[38;5;124m\"\u001b[39m:\n\u001b[0;32m     21\u001b[0m             name \u001b[38;5;241m=\u001b[39m elem\u001b[38;5;241m.\u001b[39mget(\u001b[38;5;124m\"\u001b[39m\u001b[38;5;124mRegionPath\u001b[39m\u001b[38;5;124m\"\u001b[39m, \u001b[38;5;124m\"\u001b[39m\u001b[38;5;124m\"\u001b[39m) \u001b[38;5;241m+\u001b[39m \u001b[38;5;124m\"\u001b[39m\u001b[38;5;124m \u001b[39m\u001b[38;5;124m\"\u001b[39m \u001b[38;5;241m+\u001b[39m elem\u001b[38;5;241m.\u001b[39mget(\u001b[38;5;124m\"\u001b[39m\u001b[38;5;124mGroupName\u001b[39m\u001b[38;5;124m\"\u001b[39m, \u001b[38;5;124m\"\u001b[39m\u001b[38;5;124m\"\u001b[39m)\n\u001b[0;32m     22\u001b[0m             name \u001b[38;5;241m=\u001b[39m name\u001b[38;5;241m.\u001b[39mreplace(\u001b[38;5;124m\"\u001b[39m\u001b[38;5;124mHeat Map\u001b[39m\u001b[38;5;124m\"\u001b[39m, \u001b[38;5;124m\"\u001b[39m\u001b[38;5;124m\"\u001b[39m)\u001b[38;5;241m.\u001b[39mstrip()\n",
      "\u001b[1;31mTypeError\u001b[0m: list indices must be integers or slices, not str"
     ]
    }
   ],
   "source": [
    "#!/usr/bin/env python3\n",
    "import os\n",
    "import json\n",
    "import numpy as np\n",
    "import trimesh\n",
    "from pathlib import Path\n",
    "from tqdm import tqdm\n",
    "import pandas as pd\n",
    "\n",
    "heat_maps_verts_colors = {}\n",
    "json_heatmaps_dir = './public/data/'\n",
    "\n",
    "with open(\"public/data/heat_maps.json\") as f:\n",
    "    elems = json.load(f)\n",
    "\n",
    "discrete_points_normalized = {}\n",
    "\n",
    "for elem in tqdm(elems):\n",
    "    try:\n",
    "        if elem[\"Type\"] == \"Surfaces\":\n",
    "            name = elem.get(\"RegionPath\", \"\") + \" \" + elem.get(\"GroupName\", \"\")\n",
    "            name = name.replace(\"Heat Map\", \"\").strip()\n",
    "            file = json_heatmaps_dir + elem[\"URL\"]\n",
    "            with open(file) as f:\n",
    "                data = json.load(f)\n",
    "                heat_maps_verts_colors[name] = data['colors']\n",
    "        elif elem[\"Type\"] == \"Glyph\":\n",
    "            RegionPath = elem.get(\"RegionPath\", \"\")\n",
    "            file = json_heatmaps_dir + elem[\"URL\"]\n",
    "            if \"fre\" in file:\n",
    "                RegionPath += \" Frequency\"\n",
    "                #print(RegionPath)\n",
    "            with open(file) as f:\n",
    "                data = json.load(f)\n",
    "                pos = np.reshape(data[\"positions\"][\"0\"], (-1, 3)).tolist()\n",
    "                #scale = np.reshape(data[\"scale\"][\"0\"], (-1, 3))\n",
    "                #scale = scale[:,1].tolist()\n",
    "                if RegionPath in discrete_points_normalized:\n",
    "                    print(f\"Duplicate {RegionPath}\")\n",
    "                discrete_points_normalized[RegionPath] = {\n",
    "                    \"positions\": pos,\n",
    "                    \"colors\": data[\"colors\"][\"0\"],\n",
    "                    #\"scales\": scale,\n",
    "                }\n",
    "            file = os.path.basename(file)\n",
    "            file = \"public/data/Heat_maps/discrete_points_normalized/\" + file.replace(\"nor\", \"fre\").replace(\"_points\", \"_fre\").replace(\"_pointys\", \"\").replace(\"NFs\", \"NFS\").replace(\"_fre_fre\", \"_fre\")\n",
    "            print(file, os.path.isfile(file))\n",
    "            if os.path.isfile(file) and \"fre\" in file and \"Frequency\" not in RegionPath:\n",
    "                RegionPath += \" Frequency\"\n",
    "                #print(RegionPath)\n",
    "                with open(file) as f:\n",
    "                    data = json.load(f)\n",
    "                    pos = np.reshape(data[\"positions\"][\"0\"], (-1, 3)).tolist()\n",
    "                    #scale = np.reshape(data[\"scale\"][\"0\"], (-1, 3))\n",
    "                    #scale = scale[:,1].tolist()\n",
    "                    if RegionPath in discrete_points_normalized:\n",
    "                        print(f\"Duplicate {RegionPath}\")\n",
    "                    discrete_points_normalized[RegionPath] = {\n",
    "                        \"positions\": pos,\n",
    "                        \"colors\": data[\"colors\"][\"0\"],\n",
    "                        #\"scales\": scale,\n",
    "                    }\n",
    "    except Exception as e:\n",
    "        print(f\"{e} for {elem}\")\n",
    "        raise\n",
    "\n",
    "json.dump(heat_maps_verts_colors, open(\"heat_maps_verts_colors.json\", 'w'))\n",
    "\n",
    "for k in discrete_points_normalized:\n",
    "    if \"Frequency\" in k:\n",
    "        print(k)\n",
    "\n",
    "json.dump(discrete_points_normalized, open(\"discrete_points_normalized.json\", 'w'))"
   ]
  },
  {
   "cell_type": "code",
   "execution_count": null,
   "id": "8817e587-1c45-4aaa-a4e1-98563648bc58",
   "metadata": {},
   "outputs": [],
   "source": []
  }
 ],
 "metadata": {
  "kernelspec": {
   "display_name": "Python 3 (ipykernel)",
   "language": "python",
   "name": "python3"
  },
  "language_info": {
   "codemirror_mode": {
    "name": "ipython",
    "version": 3
   },
   "file_extension": ".py",
   "mimetype": "text/x-python",
   "name": "python",
   "nbconvert_exporter": "python",
   "pygments_lexer": "ipython3",
   "version": "3.11.1"
  }
 },
 "nbformat": 4,
 "nbformat_minor": 5
}
