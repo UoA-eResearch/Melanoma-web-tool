{
 "cells": [
  {
   "cell_type": "code",
   "execution_count": 5,
   "id": "5706b9df-776d-4d6a-84f0-ae1b35c1f4e2",
   "metadata": {},
   "outputs": [
    {
     "name": "stderr",
     "output_type": "stream",
     "text": [
      "  0%|                                                                                          | 0/131 [00:00<?, ?it/s]"
     ]
    },
    {
     "name": "stdout",
     "output_type": "stream",
     "text": [
      "[Errno 2] No such file or directory: './public/data/Heat_maps/discrete_points_normalized/lal_points_2.json' for {'GroupName': 'Patient Data', 'GlyphGeometriesURL': 'Heat_maps/discrete_points_normalized/lal_points_3.json', 'MorphColours': False, 'MorphNormals': False, 'MorphVertices': False, 'RegionPath': 'Left Axilla/Sub-Node Fields/Lal', 'Type': 'Glyph', 'URL': 'Heat_maps/discrete_points_normalized/lal_points_2.json'}\n"
     ]
    },
    {
     "name": "stderr",
     "output_type": "stream",
     "text": [
      "  2%|█▎                                                                                | 2/131 [00:00<00:39,  3.26it/s]"
     ]
    },
    {
     "name": "stdout",
     "output_type": "stream",
     "text": [
      "[Errno 2] No such file or directory: './public/data/Heat_maps/discrete_points_normalized/ral_points_2.json' for {'GroupName': 'Patient Data', 'GlyphGeometriesURL': 'Heat_maps/discrete_points_normalized/ral_points_3.json', 'MorphColours': False, 'MorphNormals': False, 'MorphVertices': False, 'RegionPath': 'Right Axilla/Sub-Node Fields/Ral', 'Type': 'Glyph', 'URL': 'Heat_maps/discrete_points_normalized/ral_points_2.json'}\n"
     ]
    },
    {
     "name": "stderr",
     "output_type": "stream",
     "text": [
      "  9%|███████▍                                                                         | 12/131 [00:04<00:42,  2.83it/s]"
     ]
    },
    {
     "name": "stdout",
     "output_type": "stream",
     "text": [
      "[Errno 2] No such file or directory: './public/data/Heat_maps/discrete_points_normalized/4NFs_nor_points_2.json' for {'GroupName': 'Patient Data', 'GlyphGeometriesURL': 'Heat_maps/discrete_points_normalized/4NFs_nor_points_3.json', 'MorphColours': False, 'MorphNormals': False, 'MorphVertices': False, 'RegionPath': '4 Or More Draining Node Fields', 'Type': 'Glyph', 'URL': 'Heat_maps/discrete_points_normalized/4NFs_nor_points_2.json'}\n"
     ]
    },
    {
     "name": "stderr",
     "output_type": "stream",
     "text": [
      " 11%|████████▋                                                                        | 14/131 [00:05<00:42,  2.73it/s]"
     ]
    },
    {
     "name": "stdout",
     "output_type": "stream",
     "text": [
      "[Errno 2] No such file or directory: './public/data/Heat_maps/discrete_points_normalized/2NFs_nor_points_2.json' for {'GroupName': 'Patient Data', 'GlyphGeometriesURL': 'Heat_maps/discrete_points_normalized/2NFs_nor_points_3.json', 'MorphColours': False, 'MorphNormals': False, 'MorphVertices': False, 'RegionPath': '2 Or More Draining Node Fields', 'Type': 'Glyph', 'URL': 'Heat_maps/discrete_points_normalized/2NFs_nor_points_2.json'}\n"
     ]
    },
    {
     "name": "stderr",
     "output_type": "stream",
     "text": [
      " 14%|███████████▏                                                                     | 18/131 [00:06<00:31,  3.55it/s]"
     ]
    },
    {
     "name": "stdout",
     "output_type": "stream",
     "text": [
      "[Errno 2] No such file or directory: './public/data/Heat_maps/discrete_points_normalized/3NFs_nor_points_2.json' for {'GroupName': 'Patient Data', 'GlyphGeometriesURL': 'Heat_maps/discrete_points_normalized/3NFs_points_nor_3.json', 'MorphColours': False, 'MorphNormals': False, 'MorphVertices': False, 'RegionPath': '3 Or More Draining Node Fields', 'Type': 'Glyph', 'URL': 'Heat_maps/discrete_points_normalized/3NFs_nor_points_2.json'}\n"
     ]
    },
    {
     "name": "stderr",
     "output_type": "stream",
     "text": [
      " 15%|███████████▋                                                                     | 19/131 [00:07<00:40,  2.74it/s]"
     ]
    },
    {
     "name": "stdout",
     "output_type": "stream",
     "text": [
      "[Errno 2] No such file or directory: './public/data/Heat_maps/discrete_points_normalized/1NFs_nor_points_2.json' for {'GroupName': 'Patient Data', 'GlyphGeometriesURL': 'Heat_maps/discrete_points_normalized/1NFs_nor_points_3.json', 'MorphColours': False, 'MorphNormals': False, 'MorphVertices': False, 'RegionPath': '1 Draining Node Fields', 'Type': 'Glyph', 'URL': 'Heat_maps/discrete_points_normalized/1NFs_nor_points_2.json'}\n"
     ]
    },
    {
     "name": "stderr",
     "output_type": "stream",
     "text": [
      " 21%|████████████████▋                                                                | 27/131 [00:12<01:13,  1.42it/s]"
     ]
    },
    {
     "name": "stdout",
     "output_type": "stream",
     "text": [
      "'colors' for {'GroupName': 'Patient Data', 'GlyphGeometriesURL': 'Heat_maps/discrete_points_normalized/laa_points_3.json', 'MorphColours': False, 'MorphNormals': False, 'MorphVertices': False, 'RegionPath': 'Left Axilla/Sub-Node Fields/Laa', 'Type': 'Glyph', 'URL': 'Heat_maps/discrete_points_normalized/la_points_2.json'}\n"
     ]
    },
    {
     "name": "stderr",
     "output_type": "stream",
     "text": [
      " 26%|█████████████████████                                                            | 34/131 [00:17<01:11,  1.35it/s]"
     ]
    },
    {
     "name": "stdout",
     "output_type": "stream",
     "text": [
      "'colors' for {'GroupName': 'Patient Data', 'GlyphGeometriesURL': 'Heat_maps/discrete_points_normalized/la_points_3.json', 'MorphColours': False, 'MorphNormals': False, 'MorphVertices': False, 'RegionPath': 'Left Axilla', 'Type': 'Glyph', 'URL': 'Heat_maps/discrete_points_normalized/la_points_2.json'}\n"
     ]
    },
    {
     "name": "stderr",
     "output_type": "stream",
     "text": [
      " 35%|████████████████████████████▍                                                    | 46/131 [00:22<00:39,  2.13it/s]"
     ]
    },
    {
     "name": "stdout",
     "output_type": "stream",
     "text": [
      "[Errno 2] No such file or directory: './public/data/Heat_maps/posterior_head_1.json' for {'GroupName': 'Posterior Head', 'MorphColours': False, 'MorphNormals': False, 'MorphVertices': False, 'Type': 'Surfaces', 'URL': 'Heat_maps/posterior_head_1.json'}\n",
      "[Errno 2] No such file or directory: './public/data/Heat_maps/discrete_points_normalized/posterior_head_nor_2.json' for {'GroupName': 'Patient Data', 'GlyphGeometriesURL': 'Heat_maps/discrete_points_normalized/posterior_head_nor_3.json', 'MorphColours': False, 'MorphNormals': False, 'MorphVertices': False, 'RegionPath': 'Posterior Head', 'Type': 'Glyph', 'URL': 'Heat_maps/discrete_points_normalized/posterior_head_nor_2.json'}\n",
      "[Errno 2] No such file or directory: './public/data/Heat_maps/anterior_head_1.json' for {'GroupName': 'Anterior Head', 'MorphColours': False, 'MorphNormals': False, 'MorphVertices': False, 'Type': 'Surfaces', 'URL': 'Heat_maps/anterior_head_1.json'}\n",
      "[Errno 2] No such file or directory: './public/data/Heat_maps/discrete_points_normalized/anterior_head_nor_2.json' for {'GroupName': 'Patient Data', 'GlyphGeometriesURL': 'Heat_maps/discrete_points_normalized/anterior_head_nor_3.json', 'MorphColours': False, 'MorphNormals': False, 'MorphVertices': False, 'RegionPath': 'Anterior Head', 'Type': 'Glyph', 'URL': 'Heat_maps/discrete_points_normalized/anterior_head_nor_2.json'}\n"
     ]
    },
    {
     "name": "stderr",
     "output_type": "stream",
     "text": [
      " 56%|█████████████████████████████████████████████▊                                   | 74/131 [00:33<00:24,  2.35it/s]"
     ]
    },
    {
     "name": "stdout",
     "output_type": "stream",
     "text": [
      "[Errno 2] No such file or directory: './public/data/Heat_maps/sm_2.json' for {'GroupName': 'Submental', 'MorphColours': False, 'MorphNormals': False, 'MorphVertices': False, 'Type': 'Surfaces', 'URL': 'Heat_maps/sm_2.json'}\n",
      "[Errno 2] No such file or directory: './public/data/Heat_maps/discrete_points_normalized/sm_points_2.json' for {'GroupName': 'Patient Data', 'GlyphGeometriesURL': 'Heat_maps/discrete_points_normalized/sm_points_3.json', 'MorphColours': False, 'MorphNormals': False, 'MorphVertices': False, 'RegionPath': 'Submental', 'Type': 'Glyph', 'URL': 'Heat_maps/discrete_points_normalized/sm_points_2.json'}\n"
     ]
    },
    {
     "name": "stderr",
     "output_type": "stream",
     "text": [
      "100%|████████████████████████████████████████████████████████████████████████████████| 131/131 [00:39<00:00,  3.31it/s]\n"
     ]
    },
    {
     "name": "stdout",
     "output_type": "stream",
     "text": [
      "[Errno 2] No such file or directory: './public/data/Heat_maps/discrete_points_normalized/4NFs_nor_points_2.json' for {'GroupName': 'Patient Data', 'GlyphGeometriesURL': 'Heat_maps/discrete_points_frequency/4NFs_nor_points_3.json', 'MorphColours': False, 'MorphNormals': False, 'MorphVertices': False, 'RegionPath': '4 Or More Draining Node Fields', 'Type': 'Glyph', 'URL': 'Heat_maps/discrete_points_normalized/4NFs_nor_points_2.json'}\n",
      "[Errno 2] No such file or directory: './public/data/Heat_maps/discrete_points_normalized/2NFs_nor_points_2.json' for {'GroupName': 'Patient Data', 'GlyphGeometriesURL': 'Heat_maps/discrete_points_frequency/2NFs_nor_points_3.json', 'MorphColours': False, 'MorphNormals': False, 'MorphVertices': False, 'RegionPath': '2 Or More Draining Node Fields', 'Type': 'Glyph', 'URL': 'Heat_maps/discrete_points_normalized/2NFs_nor_points_2.json'}\n",
      "[Errno 2] No such file or directory: './public/data/Heat_maps/discrete_points_normalized/3NFs_nor_points_2.json' for {'GroupName': 'Patient Data', 'GlyphGeometriesURL': 'Heat_maps/discrete_points_frequency/3NFs_points_nor_3.json', 'MorphColours': False, 'MorphNormals': False, 'MorphVertices': False, 'RegionPath': '3 Or More Draining Node Fields', 'Type': 'Glyph', 'URL': 'Heat_maps/discrete_points_normalized/3NFs_nor_points_2.json'}\n",
      "[Errno 2] No such file or directory: './public/data/Heat_maps/discrete_points_normalized/1NFs_nor_points_2.json' for {'GroupName': 'Patient Data', 'GlyphGeometriesURL': 'Heat_maps/discrete_points_frequency/1NFs_nor_points_3.json', 'MorphColours': False, 'MorphNormals': False, 'MorphVertices': False, 'RegionPath': '1 Draining Node Fields', 'Type': 'Glyph', 'URL': 'Heat_maps/discrete_points_normalized/1NFs_nor_points_2.json'}\n",
      "'colors' for {'GroupName': 'Patient Data', 'GlyphGeometriesURL': 'Heat_maps/discrete_points_frequency/la_points_3.json', 'MorphColours': False, 'MorphNormals': False, 'MorphVertices': False, 'RegionPath': 'Left Axilla', 'Type': 'Glyph', 'URL': 'Heat_maps/discrete_points_normalized/la_points_2.json'}\n",
      "[Errno 2] No such file or directory: './public/data/Heat_maps/discrete_points_normalized/sm_points_2.json' for {'GroupName': 'Patient Data', 'GlyphGeometriesURL': 'Heat_maps/discrete_points_frequency/sm_points_3.json', 'MorphColours': False, 'MorphNormals': False, 'MorphVertices': False, 'RegionPath': 'Submental', 'Type': 'Glyph', 'URL': 'Heat_maps/discrete_points_normalized/sm_points_2.json'}\n"
     ]
    },
    {
     "name": "stderr",
     "output_type": "stream",
     "text": [
      "100%|██████████████████████████████████████████████████████████████████████████████████| 12/12 [00:00<00:00, 51.70it/s]\n"
     ]
    },
    {
     "name": "stdout",
     "output_type": "stream",
     "text": [
      "Number of heatmaps: 46\n",
      "Number of frequency discrete points: 42/83\n",
      "['All Patient Data Frequency', 'Anterior Head Frequency', 'Left Axilla', 'Left Axilla/Sub-Node Fields Laa', 'Left Axilla/Sub-Node Fields Laa Frequency', 'Left Axilla/Sub-Node Fields Lam', 'Left Axilla/Sub-Node Fields Lam Frequency', 'Left Axilla/Sub-Node Fields Lap', 'Left Axilla/Sub-Node Fields Lap Frequency', 'Left Axilla/Sub-Node Fields/Laa', 'Left Cervical Level I', 'Left Cervical Level I Frequency', 'Left Cervical Level II', 'Left Cervical Level II Frequency', 'Left Cervical Level III', 'Left Cervical Level III Frequency', 'Left Cervical Level IV', 'Left Cervical Level IV Frequency', 'Left Cervical Level V', 'Left Cervical Level V Frequency', 'Left Epitrochlear', 'Left Epitrochlear Frequency', 'Left Groin', 'Left Groin Frequency', 'Left Groin/Sub-Node Fields Liei', 'Left Groin/Sub-Node Fields Liei Frequency', 'Left Groin/Sub-Node Fields Lif', 'Left Groin/Sub-Node Fields Lif Frequency', 'Left Groin/Sub-Node Fields Lii', 'Left Groin/Sub-Node Fields Lii Frequency', 'Left Occipital', 'Left Occipital Frequency', 'Left Popliteal', 'Left Popliteal Frequency', 'Left Postauricular', 'Left Postauricular Frequency', 'Left Preauricular', 'Left Preauricular Frequency', 'Left Supraclavicular Fossa', 'Left Supraclavicular Fossa Frequency', 'Left Triangular Intermuscular Space', 'Left Triangular Intermuscular Space Frequency', 'Posterior Head Frequency', 'Right Axilla', 'Right Axilla Frequency', 'Right Axilla/Sub-Node Fields Raa', 'Right Axilla/Sub-Node Fields Raa Frequency', 'Right Axilla/Sub-Node Fields Ram', 'Right Axilla/Sub-Node Fields Ram Frequency', 'Right Axilla/Sub-Node Fields Rap', 'Right Axilla/Sub-Node Fields Rap Frequency', 'Right Cervical Level I', 'Right Cervical Level I Frequency', 'Right Cervical Level II', 'Right Cervical Level II Frequency', 'Right Cervical Level III', 'Right Cervical Level III Frequency', 'Right Cervical Level IV', 'Right Cervical Level IV Frequency', 'Right Cervical Level V', 'Right Cervical Level V Frequency', 'Right Epitrochlear', 'Right Epitrochlear Frequency', 'Right Groin', 'Right Groin Frequency', 'Right Groin/Sub-Node Fields Riei', 'Right Groin/Sub-Node Fields Riei Frequency', 'Right Groin/Sub-Node Fields Rif', 'Right Groin/Sub-Node Fields Rif Frequency', 'Right Groin/Sub-Node Fields Rii', 'Right Groin/Sub-Node Fields Rii Frequency', 'Right Occipital', 'Right Occipital Frequency', 'Right Popliteal', 'Right Popliteal Frequency', 'Right Postauricular', 'Right Postauricular Frequency', 'Right Preauricular', 'Right Preauricular Frequency', 'Right Supraclavicular Fossa', 'Right Supraclavicular Fossa Frequency', 'Right Triangular Intermuscular Space', 'Right Triangular Intermuscular Space Frequency']\n",
      "Missing normalised for Left Axilla/Sub-Node Fields Lal\n",
      "Missing frequency for Left Axilla/Sub-Node Fields Lal\n",
      "Missing normalised for Right Axilla/Sub-Node Fields Ral\n",
      "Missing frequency for Right Axilla/Sub-Node Fields Ral\n",
      "Missing normalised for 4 Or More Draining Node Fields\n",
      "Missing frequency for 4 Or More Draining Node Fields\n",
      "Missing normalised for 2 Or More Draining Node Fields\n",
      "Missing frequency for 2 Or More Draining Node Fields\n",
      "Missing normalised for 3 Or More Draining Node Fields\n",
      "Missing frequency for 3 Or More Draining Node Fields\n",
      "Missing normalised for 1 Draining Node Fields\n",
      "Missing frequency for 1 Draining Node Fields\n",
      "Missing frequency for Left Axilla\n"
     ]
    }
   ],
   "source": [
    "#!/usr/bin/env python3\n",
    "import os\n",
    "import json\n",
    "import numpy as np\n",
    "import trimesh\n",
    "from pathlib import Path\n",
    "from tqdm import tqdm\n",
    "import pandas as pd\n",
    "\n",
    "heat_maps_verts_colors = {}\n",
    "json_heatmaps_dir = './public/data/'\n",
    "\n",
    "with open(\"public/data/heat_maps.json\") as f:\n",
    "    elems = json.load(f)\n",
    "\n",
    "discrete_points_normalized = {}\n",
    "\n",
    "for elem in tqdm(elems):\n",
    "    try:\n",
    "        if elem[\"Type\"] == \"Surfaces\":\n",
    "            name = elem.get(\"RegionPath\", \"\") + \" \" + elem.get(\"GroupName\", \"\")\n",
    "            name = name.replace(\"Heat Map\", \"\").strip()\n",
    "            file = json_heatmaps_dir + elem[\"URL\"]\n",
    "            with open(file) as f:\n",
    "                data = json.load(f)\n",
    "                heat_maps_verts_colors[name] = data['colors']\n",
    "        elif elem[\"Type\"] == \"Glyph\":\n",
    "            RegionPath = elem.get(\"RegionPath\", \"\")\n",
    "            file = json_heatmaps_dir + elem[\"URL\"]\n",
    "            if \"fre\" in file and \"Frequency\" not in RegionPath:\n",
    "                RegionPath += \" Frequency\"\n",
    "                #print(RegionPath)\n",
    "            if RegionPath not in discrete_points_normalized:\n",
    "                with open(file) as f:\n",
    "                    data = json.load(f)\n",
    "                    pos = np.reshape(data[\"positions\"][\"0\"], (-1, 3)).tolist()\n",
    "                    #scale = np.reshape(data[\"scale\"][\"0\"], (-1, 3))\n",
    "                    #scale = scale[:,1].tolist()\n",
    "                    discrete_points_normalized[RegionPath] = {\n",
    "                        \"positions\": pos,\n",
    "                        \"colors\": data[\"colors\"][\"0\"],\n",
    "                        #\"scales\": scale,\n",
    "                    }\n",
    "            file = os.path.basename(file)\n",
    "            file = \"public/data/Heat_maps/discrete_points_frequency/\" + file.replace(\"nor\", \"fre\").replace(\"_points\", \"_fre_points\").replace(\"_pointys\", \"\").replace(\"NFs\", \"NFS\").replace(\"_fre_fre\", \"_fre\")\n",
    "            if not os.path.isfile(file):\n",
    "                file = file.replace(\"_fre_points\", \"_fre\")\n",
    "            #print(file, os.path.isfile(file), RegionPath)\n",
    "            if os.path.isfile(file) and \"fre\" in file and \"Frequency\" not in RegionPath:\n",
    "                RegionPath += \" Frequency\"\n",
    "                #print(RegionPath)\n",
    "                if RegionPath not in discrete_points_normalized:\n",
    "                    with open(file) as f:\n",
    "                        data = json.load(f)\n",
    "                        pos = np.reshape(data[\"positions\"][\"0\"], (-1, 3)).tolist()\n",
    "                        #scale = np.reshape(data[\"scale\"][\"0\"], (-1, 3))\n",
    "                        #scale = scale[:,1].tolist()\n",
    "                        discrete_points_normalized[RegionPath] = {\n",
    "                            \"positions\": pos,\n",
    "                            \"colors\": data[\"colors\"][\"0\"],\n",
    "                            #\"scales\": scale,\n",
    "                        }\n",
    "    except Exception as e:\n",
    "        print(f\"{e} for {elem}\")\n",
    "        #raise\n",
    "\n",
    "for code in tqdm([\"Liei\", \"Lif\", \"Lii\", \"Laa\", \"Lam\", \"Lap\", \"Riei\", \"Rif\", \"Rii\", \"Raa\", \"Ram\", \"Rap\"]):\n",
    "    if code[0:2] == \"Li\":\n",
    "        RegionPath = \"Left Groin/Sub-Node Fields \" + code\n",
    "    elif code[0:2] == \"Ri\":\n",
    "        RegionPath = \"Right Groin/Sub-Node Fields \" + code\n",
    "    elif code[0:2] == \"La\":\n",
    "        RegionPath = \"Left Axilla/Sub-Node Fields \" + code\n",
    "    elif code[0:2] == \"Ra\":\n",
    "        RegionPath = \"Right Axilla/Sub-Node Fields \" + code\n",
    "    else:\n",
    "        raise ValueError(f\"Unknown code {code}\")\n",
    "    file = f\"public/data/Heat_maps/Sub_fields/{code.lower()}_points_2.json\"\n",
    "    try:\n",
    "        with open(file) as f:\n",
    "            data = json.load(f)\n",
    "            pos = np.reshape(data[\"positions\"][\"0\"], (-1, 3)).tolist()\n",
    "            discrete_points_normalized[RegionPath] = {\n",
    "                \"positions\": pos,\n",
    "                \"colors\": data[\"colors\"][\"0\"],\n",
    "            }\n",
    "    except Exception as e:\n",
    "        print(e)\n",
    "    file = f\"public/data/Heat_maps/discrete_points_frequency/{code.lower()}_fre_points_2.json\"\n",
    "    RegionPath += \" Frequency\"\n",
    "    try:\n",
    "        with open(file) as f:\n",
    "            data = json.load(f)\n",
    "            pos = np.reshape(data[\"positions\"][\"0\"], (-1, 3)).tolist()\n",
    "            discrete_points_normalized[RegionPath] = {\n",
    "                \"positions\": pos,\n",
    "                \"colors\": data[\"colors\"][\"0\"],\n",
    "            }\n",
    "    except Exception as e:\n",
    "        print(e)\n",
    "\n",
    "print(f\"Number of heatmaps: {len(heat_maps_verts_colors)}\")\n",
    "json.dump(heat_maps_verts_colors, open(\"heat_maps_verts_colors.json\", 'w'))\n",
    "\n",
    "nf = sum(\"Frequency\" in k for k in discrete_points_normalized)\n",
    "print(f\"Number of frequency discrete points: {nf}/{len(discrete_points_normalized)}\")\n",
    "\n",
    "json.dump(discrete_points_normalized, open(\"discrete_points_normalized.json\", 'w'))\n",
    "\n",
    "print(sorted(discrete_points_normalized.keys()))\n",
    "for k in heat_maps_verts_colors:\n",
    "    if k not in discrete_points_normalized:\n",
    "        print(f\"Missing normalised for {k}\")\n",
    "    if k + \" Frequency\" not in discrete_points_normalized:\n",
    "        print(f\"Missing frequency for {k}\")"
   ]
  },
  {
   "cell_type": "code",
   "execution_count": null,
   "id": "b533f43d-3d00-4dc3-981b-37c9ffd30831",
   "metadata": {},
   "outputs": [],
   "source": []
  },
  {
   "cell_type": "code",
   "execution_count": null,
   "id": "1d485757-33a7-49e1-af4d-21f5d253d315",
   "metadata": {},
   "outputs": [],
   "source": []
  }
 ],
 "metadata": {
  "kernelspec": {
   "display_name": "Python 3 (ipykernel)",
   "language": "python",
   "name": "python3"
  },
  "language_info": {
   "codemirror_mode": {
    "name": "ipython",
    "version": 3
   },
   "file_extension": ".py",
   "mimetype": "text/x-python",
   "name": "python",
   "nbconvert_exporter": "python",
   "pygments_lexer": "ipython3",
   "version": "3.8.0"
  }
 },
 "nbformat": 4,
 "nbformat_minor": 5
}
