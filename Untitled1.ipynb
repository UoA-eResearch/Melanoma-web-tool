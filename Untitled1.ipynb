{
 "cells": [
  {
   "cell_type": "code",
   "execution_count": null,
   "id": "f4b50ef3-3910-44b5-9184-88c229cc56d4",
   "metadata": {
    "scrolled": true
   },
   "outputs": [
    {
     "name": "stderr",
     "output_type": "stream",
     "text": [
      " 27%|██████████████████████▎                                                          | 36/131 [00:18<00:48,  1.94it/s]"
     ]
    },
    {
     "name": "stdout",
     "output_type": "stream",
     "text": [
      "'colors' for {'GroupName': 'Patient Data', 'GlyphGeometriesURL': 'Heat_maps/discrete_points_normalized/ra_points_3.json', 'MorphColours': False, 'MorphNormals': False, 'MorphVertices': False, 'RegionPath': 'Right Axilla', 'Type': 'Glyph', 'URL': 'Heat_maps/discrete_points_normalized/ra_points_2.json'}\n"
     ]
    },
    {
     "name": "stderr",
     "output_type": "stream",
     "text": [
      " 29%|███████████████████████▍                                                         | 38/131 [00:18<00:34,  2.70it/s]"
     ]
    },
    {
     "name": "stdout",
     "output_type": "stream",
     "text": [
      "'colors' for {'GroupName': 'Patient Data', 'GlyphGeometriesURL': 'Heat_maps/discrete_points_normalized/ri_points_3.json', 'MorphColours': False, 'MorphNormals': False, 'MorphVertices': False, 'RegionPath': 'Right Groin', 'Type': 'Glyph', 'URL': 'Heat_maps/discrete_points_normalized/ri_points_2.json'}\n"
     ]
    },
    {
     "name": "stderr",
     "output_type": "stream",
     "text": [
      " 31%|████████████████████████▋                                                        | 40/131 [00:19<00:25,  3.53it/s]"
     ]
    },
    {
     "name": "stdout",
     "output_type": "stream",
     "text": [
      "'colors' for {'GroupName': 'Patient Data', 'GlyphGeometriesURL': 'Heat_maps/discrete_points_normalized/li_points_3.json', 'MorphColours': False, 'MorphNormals': False, 'MorphVertices': False, 'RegionPath': 'Left Groin', 'Type': 'Glyph', 'URL': 'Heat_maps/discrete_points_normalized/li_points_2.json'}\n"
     ]
    },
    {
     "name": "stderr",
     "output_type": "stream",
     "text": [
      " 32%|█████████████████████████▉                                                       | 42/131 [00:19<00:21,  4.18it/s]"
     ]
    },
    {
     "name": "stdout",
     "output_type": "stream",
     "text": [
      "'colors' for {'GroupName': 'Patient Data', 'GlyphGeometriesURL': 'Heat_maps/discrete_points_normalized/li_points_3.json', 'MorphColours': False, 'MorphNormals': False, 'MorphVertices': False, 'RegionPath': 'Left Groin', 'Type': 'Glyph', 'URL': 'Heat_maps/discrete_points_normalized/li_points_2.json'}\n"
     ]
    },
    {
     "name": "stderr",
     "output_type": "stream",
     "text": [
      " 39%|███████████████████████████████▌                                                 | 51/131 [00:20<00:13,  5.99it/s]"
     ]
    },
    {
     "name": "stdout",
     "output_type": "stream",
     "text": [
      "[Errno 2] No such file or directory: './public/data/Heat_maps/anterior_head_1.json' for {'GroupName': 'Anterior Head', 'MorphColours': False, 'MorphNormals': False, 'MorphVertices': False, 'Type': 'Surfaces', 'URL': 'Heat_maps/anterior_head_1.json'}\n"
     ]
    },
    {
     "name": "stderr",
     "output_type": "stream",
     "text": [
      "100%|████████████████████████████████████████████████████████████████████████████████| 131/131 [00:29<00:00,  4.50it/s]\n"
     ]
    },
    {
     "name": "stdout",
     "output_type": "stream",
     "text": [
      "'colors' for {'GroupName': 'Patient Data', 'GlyphGeometriesURL': 'Heat_maps/discrete_points_frequency/ra_points_3.json', 'MorphColours': False, 'MorphNormals': False, 'MorphVertices': False, 'RegionPath': 'Right Axilla', 'Type': 'Glyph', 'URL': 'Heat_maps/discrete_points_normalized/ra_points_2.json'}\n",
      "'colors' for {'GroupName': 'Patient Data', 'GlyphGeometriesURL': 'Heat_maps/discrete_points_frequency/ri_points_3.json', 'MorphColours': False, 'MorphNormals': False, 'MorphVertices': False, 'RegionPath': 'Right Groin', 'Type': 'Glyph', 'URL': 'Heat_maps/discrete_points_normalized/ri_points_2.json'}\n",
      "'colors' for {'GroupName': 'Patient Data', 'GlyphGeometriesURL': 'Heat_maps/discrete_points_normalized/li_points_3.json', 'MorphColours': False, 'MorphNormals': False, 'MorphVertices': False, 'RegionPath': 'Left Groin', 'Type': 'Glyph', 'URL': 'Heat_maps/discrete_points_normalized/li_points_2.json'}\n",
      "'colors' for {'GroupName': 'Patient Data', 'GlyphGeometriesURL': 'Heat_maps/discrete_points_frequency/li_fre_3.json', 'MorphColours': False, 'MorphNormals': False, 'MorphVertices': False, 'RegionPath': 'Left Groin', 'Type': 'Glyph', 'URL': 'Heat_maps/discrete_points_frequency/li_fre_2.json'}\n"
     ]
    },
    {
     "name": "stderr",
     "output_type": "stream",
     "text": [
      "100%|██████████████████████████████████████████████████████████████████████████████████| 14/14 [00:00<00:00, 33.13it/s]\n"
     ]
    },
    {
     "name": "stdout",
     "output_type": "stream",
     "text": [
      "Number of heatmaps: 48\n"
     ]
    }
   ],
   "source": [
    "#!/usr/bin/env python3\n",
    "import os\n",
    "import json\n",
    "import numpy as np\n",
    "import trimesh\n",
    "from pathlib import Path\n",
    "from tqdm import tqdm\n",
    "import pandas as pd\n",
    "\n",
    "heat_maps_verts_colors = {}\n",
    "json_heatmaps_dir = './public/data/'\n",
    "\n",
    "with open(\"public/data/heat_maps.json\") as f:\n",
    "    elems = json.load(f)\n",
    "\n",
    "discrete_points_normalized = {}\n",
    "\n",
    "for elem in tqdm(elems):\n",
    "    try:\n",
    "        if elem[\"Type\"] == \"Surfaces\":\n",
    "            name = elem.get(\"RegionPath\", \"\") + \" \" + elem.get(\"GroupName\", \"\")\n",
    "            name = name.replace(\"Heat Map\", \"\").strip()\n",
    "            file = json_heatmaps_dir + elem[\"URL\"]\n",
    "            with open(file) as f:\n",
    "                data = json.load(f)\n",
    "                heat_maps_verts_colors[name] = data['colors']\n",
    "        elif elem[\"Type\"] == \"Glyph\":\n",
    "            RegionPath = elem.get(\"RegionPath\", \"\")\n",
    "            RegionPath = RegionPath.replace(\"Sub-Node Fields/\", \"Sub-Node Fields \")\n",
    "            file = json_heatmaps_dir + elem[\"URL\"]\n",
    "            if \"fre\" in file and \"Frequency\" not in RegionPath:\n",
    "                RegionPath += \" Frequency\"\n",
    "                #print(RegionPath)\n",
    "            if RegionPath not in discrete_points_normalized:\n",
    "                with open(file) as f:\n",
    "                    data = json.load(f)\n",
    "                    pos = np.reshape(data[\"positions\"][\"0\"], (-1, 3)).tolist()\n",
    "                    #scale = np.reshape(data[\"scale\"][\"0\"], (-1, 3))\n",
    "                    #scale = scale[:,1].tolist()\n",
    "                    discrete_points_normalized[RegionPath] = {\n",
    "                        \"positions\": pos,\n",
    "                        \"colors\": data[\"colors\"][\"0\"],\n",
    "                        #\"scales\": scale,\n",
    "                    }\n",
    "            file = os.path.basename(file)\n",
    "            file = \"public/data/Heat_maps/discrete_points_frequency/\" + file.replace(\"nor\", \"fre\").replace(\"_points\", \"_fre_points\").replace(\"_pointys\", \"\").replace(\"NFs\", \"NFS\").replace(\"_fre_fre\", \"_fre\")\n",
    "            if not os.path.isfile(file):\n",
    "                file = file.replace(\"_fre_points\", \"_fre\")\n",
    "            #print(file, os.path.isfile(file), RegionPath)\n",
    "            if os.path.isfile(file) and \"fre\" in file and \"Frequency\" not in RegionPath:\n",
    "                RegionPath += \" Frequency\"\n",
    "                #print(RegionPath)\n",
    "                if RegionPath not in discrete_points_normalized:\n",
    "                    with open(file) as f:\n",
    "                        data = json.load(f)\n",
    "                        pos = np.reshape(data[\"positions\"][\"0\"], (-1, 3)).tolist()\n",
    "                        #scale = np.reshape(data[\"scale\"][\"0\"], (-1, 3))\n",
    "                        #scale = scale[:,1].tolist()\n",
    "                        discrete_points_normalized[RegionPath] = {\n",
    "                            \"positions\": pos,\n",
    "                            \"colors\": data[\"colors\"][\"0\"],\n",
    "                            #\"scales\": scale,\n",
    "                        }\n",
    "    except Exception as e:\n",
    "        print(f\"{e} for {elem}\")\n",
    "        #raise\n",
    "\n",
    "for code in tqdm([\"Liei\", \"Lif\", \"Lii\", \"Laa\", \"Lam\", \"Lap\", \"Lal\", \"Riei\", \"Rif\", \"Rii\", \"Raa\", \"Ram\", \"Rap\", \"Ral\"]):\n",
    "    if code[0:2] == \"Li\":\n",
    "        RegionPath = \"Left Groin/Sub-Node Fields \" + code\n",
    "    elif code[0:2] == \"Ri\":\n",
    "        RegionPath = \"Right Groin/Sub-Node Fields \" + code\n",
    "    elif code[0:2] == \"La\":\n",
    "        RegionPath = \"Left Axilla/Sub-Node Fields \" + code\n",
    "    elif code[0:2] == \"Ra\":\n",
    "        RegionPath = \"Right Axilla/Sub-Node Fields \" + code\n",
    "    else:\n",
    "        raise ValueError(f\"Unknown code {code}\")\n",
    "    file = f\"public/data/Heat_maps/Sub_fields/{code.lower()}_points_2.json\"\n",
    "    try:\n",
    "        with open(file) as f:\n",
    "            data = json.load(f)\n",
    "            pos = np.reshape(data[\"positions\"][\"0\"], (-1, 3)).tolist()\n",
    "            discrete_points_normalized[RegionPath] = {\n",
    "                \"positions\": pos,\n",
    "                \"colors\": data[\"colors\"][\"0\"],\n",
    "            }\n",
    "    except Exception as e:\n",
    "        print(e)\n",
    "    file = f\"public/data/Heat_maps/discrete_points_frequency/{code.lower()}_fre_points_2.json\"\n",
    "    RegionPath += \" Frequency\"\n",
    "    try:\n",
    "        with open(file) as f:\n",
    "            data = json.load(f)\n",
    "            pos = np.reshape(data[\"positions\"][\"0\"], (-1, 3)).tolist()\n",
    "            discrete_points_normalized[RegionPath] = {\n",
    "                \"positions\": pos,\n",
    "                \"colors\": data[\"colors\"][\"0\"],\n",
    "            }\n",
    "    except Exception as e:\n",
    "        print(e)\n",
    "\n",
    "print(f\"Number of heatmaps: {len(heat_maps_verts_colors)}\")\n",
    "json.dump(heat_maps_verts_colors, open(\"heat_maps_verts_colors.json\", 'w'))\n",
    "\n",
    "nf = sum(\"Frequency\" in k for k in discrete_points_normalized)\n",
    "print(f\"Number of frequency discrete points: {nf}/{len(discrete_points_normalized)}\")\n",
    "\n",
    "json.dump(discrete_points_normalized, open(\"discrete_points_normalized.json\", 'w'))\n",
    "\n",
    "print(sorted(discrete_points_normalized.keys()))\n",
    "for k in heat_maps_verts_colors:\n",
    "    if k not in discrete_points_normalized:\n",
    "        print(f\"Missing normalised for {k}\")\n",
    "    if k + \" Frequency\" not in discrete_points_normalized:\n",
    "        print(f\"Missing frequency for {k}\")"
   ]
  },
  {
   "cell_type": "code",
   "execution_count": null,
   "id": "c5a0e976-b0ea-4d3d-a183-95dc0df681a1",
   "metadata": {},
   "outputs": [],
   "source": []
  },
  {
   "cell_type": "code",
   "execution_count": null,
   "id": "0a8fba8a-0cea-47e4-8d7c-12d33334caad",
   "metadata": {},
   "outputs": [],
   "source": []
  }
 ],
 "metadata": {
  "kernelspec": {
   "display_name": "Python 3 (ipykernel)",
   "language": "python",
   "name": "python3"
  },
  "language_info": {
   "codemirror_mode": {
    "name": "ipython",
    "version": 3
   },
   "file_extension": ".py",
   "mimetype": "text/x-python",
   "name": "python",
   "nbconvert_exporter": "python",
   "pygments_lexer": "ipython3",
   "version": "3.8.0"
  }
 },
 "nbformat": 4,
 "nbformat_minor": 5
}
