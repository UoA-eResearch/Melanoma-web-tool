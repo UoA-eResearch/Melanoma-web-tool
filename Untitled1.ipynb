{
 "cells": [
  {
   "cell_type": "code",
   "execution_count": 11,
   "id": "f4b50ef3-3910-44b5-9184-88c229cc56d4",
   "metadata": {},
   "outputs": [
    {
     "name": "stderr",
     "output_type": "stream",
     "text": [
      " 27%|██████████████████████▎                                                          | 36/131 [00:15<00:42,  2.23it/s]"
     ]
    },
    {
     "name": "stdout",
     "output_type": "stream",
     "text": [
      "'colors' for {'GroupName': 'Patient Data', 'GlyphGeometriesURL': 'Heat_maps/discrete_points_normalized/ra_points_3.json', 'MorphColours': False, 'MorphNormals': False, 'MorphVertices': False, 'RegionPath': 'Right Axilla', 'Type': 'Glyph', 'URL': 'Heat_maps/discrete_points_normalized/ra_points_2.json'}\n"
     ]
    },
    {
     "name": "stderr",
     "output_type": "stream",
     "text": [
      " 29%|███████████████████████▍                                                         | 38/131 [00:15<00:30,  3.05it/s]"
     ]
    },
    {
     "name": "stdout",
     "output_type": "stream",
     "text": [
      "'colors' for {'GroupName': 'Patient Data', 'GlyphGeometriesURL': 'Heat_maps/discrete_points_normalized/ri_points_3.json', 'MorphColours': False, 'MorphNormals': False, 'MorphVertices': False, 'RegionPath': 'Right Groin', 'Type': 'Glyph', 'URL': 'Heat_maps/discrete_points_normalized/ri_points_2.json'}\n"
     ]
    },
    {
     "name": "stderr",
     "output_type": "stream",
     "text": [
      " 31%|████████████████████████▋                                                        | 40/131 [00:15<00:23,  3.93it/s]"
     ]
    },
    {
     "name": "stdout",
     "output_type": "stream",
     "text": [
      "'colors' for {'GroupName': 'Patient Data', 'GlyphGeometriesURL': 'Heat_maps/discrete_points_normalized/li_points_3.json', 'MorphColours': False, 'MorphNormals': False, 'MorphVertices': False, 'RegionPath': 'Left Groin', 'Type': 'Glyph', 'URL': 'Heat_maps/discrete_points_normalized/li_points_2.json'}\n"
     ]
    },
    {
     "name": "stderr",
     "output_type": "stream",
     "text": [
      " 32%|█████████████████████████▉                                                       | 42/131 [00:16<00:19,  4.60it/s]"
     ]
    },
    {
     "name": "stdout",
     "output_type": "stream",
     "text": [
      "'colors' for {'GroupName': 'Patient Data', 'GlyphGeometriesURL': 'Heat_maps/discrete_points_normalized/li_points_3.json', 'MorphColours': False, 'MorphNormals': False, 'MorphVertices': False, 'RegionPath': 'Left Groin', 'Type': 'Glyph', 'URL': 'Heat_maps/discrete_points_normalized/li_points_2.json'}\n"
     ]
    },
    {
     "name": "stderr",
     "output_type": "stream",
     "text": [
      "100%|████████████████████████████████████████████████████████████████████████████████| 131/131 [00:24<00:00,  5.27it/s]\n"
     ]
    },
    {
     "name": "stdout",
     "output_type": "stream",
     "text": [
      "'colors' for {'GroupName': 'Patient Data', 'GlyphGeometriesURL': 'Heat_maps/discrete_points_frequency/ra_points_3.json', 'MorphColours': False, 'MorphNormals': False, 'MorphVertices': False, 'RegionPath': 'Right Axilla', 'Type': 'Glyph', 'URL': 'Heat_maps/discrete_points_normalized/ra_points_2.json'}\n",
      "'colors' for {'GroupName': 'Patient Data', 'GlyphGeometriesURL': 'Heat_maps/discrete_points_frequency/ri_points_3.json', 'MorphColours': False, 'MorphNormals': False, 'MorphVertices': False, 'RegionPath': 'Right Groin', 'Type': 'Glyph', 'URL': 'Heat_maps/discrete_points_normalized/ri_points_2.json'}\n",
      "'colors' for {'GroupName': 'Patient Data', 'GlyphGeometriesURL': 'Heat_maps/discrete_points_normalized/li_points_3.json', 'MorphColours': False, 'MorphNormals': False, 'MorphVertices': False, 'RegionPath': 'Left Groin', 'Type': 'Glyph', 'URL': 'Heat_maps/discrete_points_normalized/li_points_2.json'}\n",
      "'colors' for {'GroupName': 'Patient Data', 'GlyphGeometriesURL': 'Heat_maps/discrete_points_frequency/li_fre_3.json', 'MorphColours': False, 'MorphNormals': False, 'MorphVertices': False, 'RegionPath': 'Left Groin', 'Type': 'Glyph', 'URL': 'Heat_maps/discrete_points_frequency/li_fre_2.json'}\n"
     ]
    },
    {
     "name": "stderr",
     "output_type": "stream",
     "text": [
      "100%|██████████████████████████████████████████████████████████████████████████████████| 14/14 [00:00<00:00, 30.24it/s]\n"
     ]
    },
    {
     "name": "stdout",
     "output_type": "stream",
     "text": [
      "Number of heatmaps: 49\n",
      "Number of frequency discrete points: 48/98\n",
      "['1 Draining Node Fields', '1 Draining Node Fields Frequency', '2 Or More Draining Node Fields', '2 Or More Draining Node Fields Frequency', '3 Or More Draining Node Fields', '3 Or More Draining Node Fields Frequency', '4 Or More Draining Node Fields', '4 Or More Draining Node Fields Frequency', 'All Patient Data Frequency', 'Anterior Head', 'Anterior Head Frequency', 'Left Axilla', 'Left Axilla Frequency', 'Left Axilla/Sub-Node Fields Laa', 'Left Axilla/Sub-Node Fields Laa Frequency', 'Left Axilla/Sub-Node Fields Lal', 'Left Axilla/Sub-Node Fields Lal Frequency', 'Left Axilla/Sub-Node Fields Lam', 'Left Axilla/Sub-Node Fields Lam Frequency', 'Left Axilla/Sub-Node Fields Lap', 'Left Axilla/Sub-Node Fields Lap Frequency', 'Left Cervical Level I', 'Left Cervical Level I Frequency', 'Left Cervical Level II', 'Left Cervical Level II Frequency', 'Left Cervical Level III', 'Left Cervical Level III Frequency', 'Left Cervical Level IV', 'Left Cervical Level IV Frequency', 'Left Cervical Level V', 'Left Cervical Level V Frequency', 'Left Epitrochlear', 'Left Epitrochlear Frequency', 'Left Groin', 'Left Groin/Sub-Node Fields Liei', 'Left Groin/Sub-Node Fields Liei Frequency', 'Left Groin/Sub-Node Fields Lif', 'Left Groin/Sub-Node Fields Lif Frequency', 'Left Groin/Sub-Node Fields Lii', 'Left Groin/Sub-Node Fields Lii Frequency', 'Left Occipital', 'Left Occipital Frequency', 'Left Popliteal', 'Left Popliteal Frequency', 'Left Postauricular', 'Left Postauricular Frequency', 'Left Preauricular', 'Left Preauricular Frequency', 'Left Supraclavicular Fossa', 'Left Supraclavicular Fossa Frequency', 'Left Triangular Intermuscular Space', 'Left Triangular Intermuscular Space Frequency', 'Posterior Head', 'Posterior Head Frequency', 'Right Axilla', 'Right Axilla/Sub-Node Fields Raa', 'Right Axilla/Sub-Node Fields Raa Frequency', 'Right Axilla/Sub-Node Fields Ral', 'Right Axilla/Sub-Node Fields Ral Frequency', 'Right Axilla/Sub-Node Fields Ram', 'Right Axilla/Sub-Node Fields Ram Frequency', 'Right Axilla/Sub-Node Fields Rap', 'Right Axilla/Sub-Node Fields Rap Frequency', 'Right Axilla/Sub-Node Fields ral', 'Right Axilla/Sub-Node Fields ral Frequency', 'Right Cervical Level I', 'Right Cervical Level I Frequency', 'Right Cervical Level II', 'Right Cervical Level II Frequency', 'Right Cervical Level III', 'Right Cervical Level III Frequency', 'Right Cervical Level IV', 'Right Cervical Level IV Frequency', 'Right Cervical Level V', 'Right Cervical Level V Frequency', 'Right Epitrochlear', 'Right Epitrochlear Frequency', 'Right Groin', 'Right Groin/Sub-Node Fields Riei', 'Right Groin/Sub-Node Fields Riei Frequency', 'Right Groin/Sub-Node Fields Rif', 'Right Groin/Sub-Node Fields Rif Frequency', 'Right Groin/Sub-Node Fields Rii', 'Right Groin/Sub-Node Fields Rii Frequency', 'Right Occipital', 'Right Occipital Frequency', 'Right Popliteal', 'Right Popliteal Frequency', 'Right Postauricular', 'Right Postauricular Frequency', 'Right Preauricular', 'Right Preauricular Frequency', 'Right Supraclavicular Fossa', 'Right Supraclavicular Fossa Frequency', 'Right Triangular Intermuscular Space', 'Right Triangular Intermuscular Space Frequency', 'Submental', 'Submental Frequency']\n",
      "Missing frequency for Right Axilla\n",
      "Missing frequency for Right Groin\n",
      "Missing frequency for Left Groin\n"
     ]
    }
   ],
   "source": [
    "#!/usr/bin/env python3\n",
    "import os\n",
    "import json\n",
    "import numpy as np\n",
    "import trimesh\n",
    "from pathlib import Path\n",
    "from tqdm import tqdm\n",
    "import pandas as pd\n",
    "\n",
    "heat_maps_verts_colors = {}\n",
    "json_heatmaps_dir = './public/data/'\n",
    "\n",
    "with open(\"public/data/heat_maps.json\") as f:\n",
    "    elems = json.load(f)\n",
    "\n",
    "discrete_points_normalized = {}\n",
    "\n",
    "for elem in tqdm(elems):\n",
    "    try:\n",
    "        if elem[\"Type\"] == \"Surfaces\":\n",
    "            name = elem.get(\"RegionPath\", \"\") + \" \" + elem.get(\"GroupName\", \"\")\n",
    "            name = name.replace(\"Heat Map\", \"\").strip()\n",
    "            file = json_heatmaps_dir + elem[\"URL\"]\n",
    "            with open(file) as f:\n",
    "                data = json.load(f)\n",
    "                heat_maps_verts_colors[name] = data['colors']\n",
    "        elif elem[\"Type\"] == \"Glyph\":\n",
    "            RegionPath = elem.get(\"RegionPath\", \"\")\n",
    "            RegionPath = RegionPath.replace(\"Sub-Node Fields/\", \"Sub-Node Fields \")\n",
    "            file = json_heatmaps_dir + elem[\"URL\"]\n",
    "            if \"fre\" in file and \"Frequency\" not in RegionPath:\n",
    "                RegionPath += \" Frequency\"\n",
    "                #print(RegionPath)\n",
    "            if RegionPath not in discrete_points_normalized:\n",
    "                with open(file) as f:\n",
    "                    data = json.load(f)\n",
    "                    pos = np.reshape(data[\"positions\"][\"0\"], (-1, 3)).tolist()\n",
    "                    #scale = np.reshape(data[\"scale\"][\"0\"], (-1, 3))\n",
    "                    #scale = scale[:,1].tolist()\n",
    "                    discrete_points_normalized[RegionPath] = {\n",
    "                        \"positions\": pos,\n",
    "                        \"colors\": data[\"colors\"][\"0\"],\n",
    "                        #\"scales\": scale,\n",
    "                    }\n",
    "            file = os.path.basename(file)\n",
    "            file = \"public/data/Heat_maps/discrete_points_frequency/\" + file.replace(\"nor\", \"fre\").replace(\"_points\", \"_fre_points\").replace(\"_pointys\", \"\").replace(\"NFs\", \"NFS\").replace(\"_fre_fre\", \"_fre\")\n",
    "            if not os.path.isfile(file):\n",
    "                file = file.replace(\"_fre_points\", \"_fre\")\n",
    "            #print(file, os.path.isfile(file), RegionPath)\n",
    "            if os.path.isfile(file) and \"fre\" in file and \"Frequency\" not in RegionPath:\n",
    "                RegionPath += \" Frequency\"\n",
    "                #print(RegionPath)\n",
    "                if RegionPath not in discrete_points_normalized:\n",
    "                    with open(file) as f:\n",
    "                        data = json.load(f)\n",
    "                        pos = np.reshape(data[\"positions\"][\"0\"], (-1, 3)).tolist()\n",
    "                        #scale = np.reshape(data[\"scale\"][\"0\"], (-1, 3))\n",
    "                        #scale = scale[:,1].tolist()\n",
    "                        discrete_points_normalized[RegionPath] = {\n",
    "                            \"positions\": pos,\n",
    "                            \"colors\": data[\"colors\"][\"0\"],\n",
    "                            #\"scales\": scale,\n",
    "                        }\n",
    "    except Exception as e:\n",
    "        print(f\"{e} for {elem}\")\n",
    "        #raise\n",
    "\n",
    "for code in tqdm([\"Liei\", \"Lif\", \"Lii\", \"Laa\", \"Lam\", \"Lap\", \"Lal\", \"Riei\", \"Rif\", \"Rii\", \"Raa\", \"Ram\", \"Rap\", \"Ral\"]):\n",
    "    if code[0:2] == \"Li\":\n",
    "        RegionPath = \"Left Groin/Sub-Node Fields \" + code\n",
    "    elif code[0:2] == \"Ri\":\n",
    "        RegionPath = \"Right Groin/Sub-Node Fields \" + code\n",
    "    elif code[0:2] == \"La\":\n",
    "        RegionPath = \"Left Axilla/Sub-Node Fields \" + code\n",
    "    elif code[0:2] == \"Ra\":\n",
    "        RegionPath = \"Right Axilla/Sub-Node Fields \" + code\n",
    "    else:\n",
    "        raise ValueError(f\"Unknown code {code}\")\n",
    "    file = f\"public/data/Heat_maps/Sub_fields/{code.lower()}_points_2.json\"\n",
    "    try:\n",
    "        with open(file) as f:\n",
    "            data = json.load(f)\n",
    "            pos = np.reshape(data[\"positions\"][\"0\"], (-1, 3)).tolist()\n",
    "            discrete_points_normalized[RegionPath] = {\n",
    "                \"positions\": pos,\n",
    "                \"colors\": data[\"colors\"][\"0\"],\n",
    "            }\n",
    "    except Exception as e:\n",
    "        print(e)\n",
    "    file = f\"public/data/Heat_maps/discrete_points_frequency/{code.lower()}_fre_points_2.json\"\n",
    "    RegionPath += \" Frequency\"\n",
    "    try:\n",
    "        with open(file) as f:\n",
    "            data = json.load(f)\n",
    "            pos = np.reshape(data[\"positions\"][\"0\"], (-1, 3)).tolist()\n",
    "            discrete_points_normalized[RegionPath] = {\n",
    "                \"positions\": pos,\n",
    "                \"colors\": data[\"colors\"][\"0\"],\n",
    "            }\n",
    "    except Exception as e:\n",
    "        print(e)\n",
    "\n",
    "print(f\"Number of heatmaps: {len(heat_maps_verts_colors)}\")\n",
    "json.dump(heat_maps_verts_colors, open(\"heat_maps_verts_colors.json\", 'w'))\n",
    "\n",
    "nf = sum(\"Frequency\" in k for k in discrete_points_normalized)\n",
    "print(f\"Number of frequency discrete points: {nf}/{len(discrete_points_normalized)}\")\n",
    "\n",
    "json.dump(discrete_points_normalized, open(\"discrete_points_normalized.json\", 'w'))\n",
    "\n",
    "print(sorted(discrete_points_normalized.keys()))\n",
    "for k in heat_maps_verts_colors:\n",
    "    if k not in discrete_points_normalized:\n",
    "        print(f\"Missing normalised for {k}\")\n",
    "    if k + \" Frequency\" not in discrete_points_normalized:\n",
    "        print(f\"Missing frequency for {k}\")"
   ]
  },
  {
   "cell_type": "code",
   "execution_count": null,
   "id": "c5a0e976-b0ea-4d3d-a183-95dc0df681a1",
   "metadata": {},
   "outputs": [],
   "source": []
  },
  {
   "cell_type": "code",
   "execution_count": null,
   "id": "0a8fba8a-0cea-47e4-8d7c-12d33334caad",
   "metadata": {},
   "outputs": [],
   "source": []
  }
 ],
 "metadata": {
  "kernelspec": {
   "display_name": "Python 3 (ipykernel)",
   "language": "python",
   "name": "python3"
  },
  "language_info": {
   "codemirror_mode": {
    "name": "ipython",
    "version": 3
   },
   "file_extension": ".py",
   "mimetype": "text/x-python",
   "name": "python",
   "nbconvert_exporter": "python",
   "pygments_lexer": "ipython3",
   "version": "3.8.0"
  }
 },
 "nbformat": 4,
 "nbformat_minor": 5
}
