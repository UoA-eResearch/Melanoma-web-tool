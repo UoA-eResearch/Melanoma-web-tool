{
 "cells": [
  {
   "cell_type": "code",
   "execution_count": 1,
   "id": "61282301-e483-4290-80b0-4aea80e89ef2",
   "metadata": {},
   "outputs": [
    {
     "name": "stderr",
     "output_type": "stream",
     "text": [
      "  0%|                                                                                          | 0/131 [00:00<?, ?it/s]"
     ]
    },
    {
     "name": "stdout",
     "output_type": "stream",
     "text": [
      "public/data/Heat_maps/discrete_points_normalized/lal_fre_2.json False\n"
     ]
    },
    {
     "name": "stderr",
     "output_type": "stream",
     "text": [
      "  2%|█▎                                                                                | 2/131 [00:00<00:33,  3.84it/s]"
     ]
    },
    {
     "name": "stdout",
     "output_type": "stream",
     "text": [
      "public/data/Heat_maps/discrete_points_normalized/ral_fre_2.json False\n"
     ]
    },
    {
     "name": "stderr",
     "output_type": "stream",
     "text": [
      "  4%|███▏                                                                              | 5/131 [00:01<00:46,  2.72it/s]"
     ]
    },
    {
     "name": "stdout",
     "output_type": "stream",
     "text": [
      "public/data/Heat_maps/discrete_points_normalized/ltis_fre_2.json False\n"
     ]
    },
    {
     "name": "stderr",
     "output_type": "stream",
     "text": [
      "  5%|████▍                                                                             | 7/131 [00:02<00:40,  3.05it/s]"
     ]
    },
    {
     "name": "stdout",
     "output_type": "stream",
     "text": [
      "public/data/Heat_maps/discrete_points_normalized/rtis_fre_2.json False\n"
     ]
    },
    {
     "name": "stderr",
     "output_type": "stream",
     "text": [
      "  7%|█████▋                                                                            | 9/131 [00:02<00:38,  3.16it/s]"
     ]
    },
    {
     "name": "stdout",
     "output_type": "stream",
     "text": [
      "public/data/Heat_maps/discrete_points_normalized/lc1_fre_2.json False\n"
     ]
    },
    {
     "name": "stderr",
     "output_type": "stream",
     "text": [
      "  9%|███████▍                                                                         | 12/131 [00:03<00:31,  3.83it/s]"
     ]
    },
    {
     "name": "stdout",
     "output_type": "stream",
     "text": [
      "public/data/Heat_maps/discrete_points_normalized/4NFS_fre_2.json False\n"
     ]
    },
    {
     "name": "stderr",
     "output_type": "stream",
     "text": [
      " 11%|████████▋                                                                        | 14/131 [00:03<00:31,  3.75it/s]"
     ]
    },
    {
     "name": "stdout",
     "output_type": "stream",
     "text": [
      "public/data/Heat_maps/discrete_points_normalized/2NFS_fre_2.json False\n"
     ]
    },
    {
     "name": "stderr",
     "output_type": "stream",
     "text": [
      " 12%|█████████▉                                                                       | 16/131 [00:04<00:32,  3.57it/s]"
     ]
    },
    {
     "name": "stdout",
     "output_type": "stream",
     "text": [
      "public/data/Heat_maps/discrete_points_normalized/3NFS_fre_2.json False\n",
      "public/data/Heat_maps/discrete_points_normalized/all_freq_fre_2.json False\n"
     ]
    },
    {
     "name": "stderr",
     "output_type": "stream",
     "text": [
      " 15%|███████████▋                                                                     | 19/131 [00:05<00:28,  3.94it/s]"
     ]
    },
    {
     "name": "stdout",
     "output_type": "stream",
     "text": [
      "public/data/Heat_maps/discrete_points_normalized/1NFS_fre_2.json False\n"
     ]
    },
    {
     "name": "stderr",
     "output_type": "stream",
     "text": [
      " 21%|████████████████▋                                                                | 27/131 [00:09<00:51,  2.02it/s]"
     ]
    },
    {
     "name": "stdout",
     "output_type": "stream",
     "text": [
      "public/data/Heat_maps/discrete_points_normalized/la_fre_2.json False\n"
     ]
    },
    {
     "name": "stderr",
     "output_type": "stream",
     "text": [
      " 26%|█████████████████████                                                            | 34/131 [00:12<00:49,  1.98it/s]"
     ]
    },
    {
     "name": "stdout",
     "output_type": "stream",
     "text": [
      "public/data/Heat_maps/discrete_points_normalized/la_fre_2.json False\n"
     ]
    },
    {
     "name": "stderr",
     "output_type": "stream",
     "text": [
      " 27%|██████████████████████▎                                                          | 36/131 [00:13<00:38,  2.44it/s]"
     ]
    },
    {
     "name": "stdout",
     "output_type": "stream",
     "text": [
      "public/data/Heat_maps/discrete_points_normalized/ra_fre_2.json False\n"
     ]
    },
    {
     "name": "stderr",
     "output_type": "stream",
     "text": [
      " 29%|███████████████████████▍                                                         | 38/131 [00:13<00:33,  2.80it/s]"
     ]
    },
    {
     "name": "stdout",
     "output_type": "stream",
     "text": [
      "public/data/Heat_maps/discrete_points_normalized/ri_fre_2.json False\n"
     ]
    },
    {
     "name": "stderr",
     "output_type": "stream",
     "text": [
      " 31%|████████████████████████▋                                                        | 40/131 [00:14<00:33,  2.76it/s]\n"
     ]
    },
    {
     "name": "stdout",
     "output_type": "stream",
     "text": [
      "public/data/Heat_maps/discrete_points_normalized/li_fre_2.json True\n",
      "'colors' for {'GroupName': 'Patient Data', 'GlyphGeometriesURL': 'Heat_maps/discrete_points_normalized/li_points_3.json', 'MorphColours': False, 'MorphNormals': False, 'MorphVertices': False, 'RegionPath': 'Left Groin', 'Type': 'Glyph', 'URL': 'Heat_maps/discrete_points_normalized/li_points_2.json'}\n"
     ]
    },
    {
     "ename": "KeyError",
     "evalue": "'colors'",
     "output_type": "error",
     "traceback": [
      "\u001b[1;31m---------------------------------------------------------------------------\u001b[0m",
      "\u001b[1;31mKeyError\u001b[0m                                  Traceback (most recent call last)",
      "Cell \u001b[1;32mIn[1], line 60\u001b[0m\n\u001b[0;32m     56\u001b[0m                 \u001b[38;5;28;01mif\u001b[39;00m RegionPath \u001b[38;5;129;01min\u001b[39;00m discrete_points_normalized:\n\u001b[0;32m     57\u001b[0m                     \u001b[38;5;28mprint\u001b[39m(\u001b[38;5;124mf\u001b[39m\u001b[38;5;124m\"\u001b[39m\u001b[38;5;124mDuplicate \u001b[39m\u001b[38;5;132;01m{\u001b[39;00mRegionPath\u001b[38;5;132;01m}\u001b[39;00m\u001b[38;5;124m\"\u001b[39m)\n\u001b[0;32m     58\u001b[0m                 discrete_points_normalized[RegionPath] \u001b[38;5;241m=\u001b[39m {\n\u001b[0;32m     59\u001b[0m                     \u001b[38;5;124m\"\u001b[39m\u001b[38;5;124mpositions\u001b[39m\u001b[38;5;124m\"\u001b[39m: pos,\n\u001b[1;32m---> 60\u001b[0m                     \u001b[38;5;124m\"\u001b[39m\u001b[38;5;124mcolors\u001b[39m\u001b[38;5;124m\"\u001b[39m: \u001b[43mdata\u001b[49m\u001b[43m[\u001b[49m\u001b[38;5;124;43m\"\u001b[39;49m\u001b[38;5;124;43mcolors\u001b[39;49m\u001b[38;5;124;43m\"\u001b[39;49m\u001b[43m]\u001b[49m[\u001b[38;5;124m\"\u001b[39m\u001b[38;5;124m0\u001b[39m\u001b[38;5;124m\"\u001b[39m],\n\u001b[0;32m     61\u001b[0m                     \u001b[38;5;66;03m#\"scales\": scale,\u001b[39;00m\n\u001b[0;32m     62\u001b[0m                 }\n\u001b[0;32m     63\u001b[0m \u001b[38;5;28;01mexcept\u001b[39;00m \u001b[38;5;167;01mException\u001b[39;00m \u001b[38;5;28;01mas\u001b[39;00m e:\n\u001b[0;32m     64\u001b[0m     \u001b[38;5;28mprint\u001b[39m(\u001b[38;5;124mf\u001b[39m\u001b[38;5;124m\"\u001b[39m\u001b[38;5;132;01m{\u001b[39;00me\u001b[38;5;132;01m}\u001b[39;00m\u001b[38;5;124m for \u001b[39m\u001b[38;5;132;01m{\u001b[39;00melem\u001b[38;5;132;01m}\u001b[39;00m\u001b[38;5;124m\"\u001b[39m)\n",
      "\u001b[1;31mKeyError\u001b[0m: 'colors'"
     ]
    }
   ],
   "source": [
    "#!/usr/bin/env python3\n",
    "import os\n",
    "import json\n",
    "import numpy as np\n",
    "import trimesh\n",
    "from pathlib import Path\n",
    "from tqdm import tqdm\n",
    "import pandas as pd\n",
    "\n",
    "heat_maps_verts_colors = {}\n",
    "json_heatmaps_dir = './public/data/'\n",
    "\n",
    "with open(\"public/data/heat_maps.json\") as f:\n",
    "    elems = json.load(f)\n",
    "\n",
    "discrete_points_normalized = {}\n",
    "\n",
    "for elem in tqdm(elems):\n",
    "    try:\n",
    "        if elem[\"Type\"] == \"Surfaces\":\n",
    "            name = elem.get(\"RegionPath\", \"\") + \" \" + elem.get(\"GroupName\", \"\")\n",
    "            name = name.replace(\"Heat Map\", \"\").strip()\n",
    "            file = json_heatmaps_dir + elem[\"URL\"]\n",
    "            with open(file) as f:\n",
    "                data = json.load(f)\n",
    "                heat_maps_verts_colors[name] = data['colors']\n",
    "        elif elem[\"Type\"] == \"Glyph\":\n",
    "            RegionPath = elem.get(\"RegionPath\", \"\")\n",
    "            file = json_heatmaps_dir + elem[\"URL\"]\n",
    "            if \"fre\" in file:\n",
    "                RegionPath += \" Frequency\"\n",
    "                #print(RegionPath)\n",
    "            with open(file) as f:\n",
    "                data = json.load(f)\n",
    "                pos = np.reshape(data[\"positions\"][\"0\"], (-1, 3)).tolist()\n",
    "                #scale = np.reshape(data[\"scale\"][\"0\"], (-1, 3))\n",
    "                #scale = scale[:,1].tolist()\n",
    "                if RegionPath in discrete_points_normalized:\n",
    "                    print(f\"Duplicate {RegionPath}\")\n",
    "                discrete_points_normalized[RegionPath] = {\n",
    "                    \"positions\": pos,\n",
    "                    \"colors\": data[\"colors\"][\"0\"],\n",
    "                    #\"scales\": scale,\n",
    "                }\n",
    "            file = os.path.basename(file)\n",
    "            file = \"public/data/Heat_maps/discrete_points_normalized/\" + file.replace(\"nor\", \"fre\").replace(\"_points\", \"_fre\").replace(\"_pointys\", \"\").replace(\"NFs\", \"NFS\").replace(\"_fre_fre\", \"_fre\")\n",
    "            print(file, os.path.isfile(file))\n",
    "            if os.path.isfile(file) and \"fre\" in file and \"Frequency\" not in RegionPath:\n",
    "                RegionPath += \" Frequency\"\n",
    "                #print(RegionPath)\n",
    "                with open(file) as f:\n",
    "                    data = json.load(f)\n",
    "                    pos = np.reshape(data[\"positions\"][\"0\"], (-1, 3)).tolist()\n",
    "                    #scale = np.reshape(data[\"scale\"][\"0\"], (-1, 3))\n",
    "                    #scale = scale[:,1].tolist()\n",
    "                    if RegionPath in discrete_points_normalized:\n",
    "                        print(f\"Duplicate {RegionPath}\")\n",
    "                    discrete_points_normalized[RegionPath] = {\n",
    "                        \"positions\": pos,\n",
    "                        \"colors\": data[\"colors\"][\"0\"],\n",
    "                        #\"scales\": scale,\n",
    "                    }\n",
    "    except Exception as e:\n",
    "        print(f\"{e} for {elem}\")\n",
    "        raise\n",
    "\n",
    "json.dump(heat_maps_verts_colors, open(\"heat_maps_verts_colors.json\", 'w'))\n",
    "\n",
    "for k in discrete_points_normalized:\n",
    "    if \"Frequency\" in k:\n",
    "        print(k)\n",
    "\n",
    "json.dump(discrete_points_normalized, open(\"discrete_points_normalized.json\", 'w'))"
   ]
  },
  {
   "cell_type": "code",
   "execution_count": null,
   "id": "8817e587-1c45-4aaa-a4e1-98563648bc58",
   "metadata": {},
   "outputs": [],
   "source": []
  }
 ],
 "metadata": {
  "kernelspec": {
   "display_name": "Python 3 (ipykernel)",
   "language": "python",
   "name": "python3"
  },
  "language_info": {
   "codemirror_mode": {
    "name": "ipython",
    "version": 3
   },
   "file_extension": ".py",
   "mimetype": "text/x-python",
   "name": "python",
   "nbconvert_exporter": "python",
   "pygments_lexer": "ipython3",
   "version": "3.8.0"
  }
 },
 "nbformat": 4,
 "nbformat_minor": 5
}
