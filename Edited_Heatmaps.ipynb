{
 "cells": [
  {
   "cell_type": "code",
   "execution_count": 40,
   "id": "5706b9df-776d-4d6a-84f0-ae1b35c1f4e2",
   "metadata": {},
   "outputs": [
    {
     "name": "stderr",
     "output_type": "stream",
     "text": [
      "  0%|                                                                                          | 0/133 [00:00<?, ?it/s]"
     ]
    },
    {
     "name": "stdout",
     "output_type": "stream",
     "text": [
      "[Errno 2] No such file or directory: './public/data/Heat_maps/discrete_points_normalized/lal_points_2.json' for {'GroupName': 'Patient Data', 'GlyphGeometriesURL': 'Heat_maps/discrete_points_normalized/lal_points_3.json', 'MorphColours': False, 'MorphNormals': False, 'MorphVertices': False, 'RegionPath': 'Left Axilla/Sub-Node Fields/Lal', 'Type': 'Glyph', 'URL': 'Heat_maps/discrete_points_normalized/lal_points_2.json'}\n"
     ]
    },
    {
     "name": "stderr",
     "output_type": "stream",
     "text": [
      "  2%|█▏                                                                                | 2/133 [00:00<00:41,  3.15it/s]"
     ]
    },
    {
     "name": "stdout",
     "output_type": "stream",
     "text": [
      "[Errno 2] No such file or directory: './public/data/Heat_maps/discrete_points_normalized/ral_points_2.json' for {'GroupName': 'Patient Data', 'GlyphGeometriesURL': 'Heat_maps/discrete_points_normalized/ral_points_3.json', 'MorphColours': False, 'MorphNormals': False, 'MorphVertices': False, 'RegionPath': 'Right Axilla/Sub-Node Fields/Ral', 'Type': 'Glyph', 'URL': 'Heat_maps/discrete_points_normalized/ral_points_2.json'}\n"
     ]
    },
    {
     "name": "stderr",
     "output_type": "stream",
     "text": [
      " 26%|████████████████████▋                                                            | 34/133 [00:18<01:00,  1.65it/s]"
     ]
    },
    {
     "name": "stdout",
     "output_type": "stream",
     "text": [
      "'colors' for {'GroupName': 'Patient Data', 'GlyphGeometriesURL': 'Heat_maps/discrete_points_normalized/la_points_3.json', 'MorphColours': False, 'MorphNormals': False, 'MorphVertices': False, 'RegionPath': 'Left Axilla', 'Type': 'Glyph', 'URL': 'Heat_maps/discrete_points_normalized/la_points_2.json'}\n"
     ]
    },
    {
     "name": "stderr",
     "output_type": "stream",
     "text": [
      " 27%|█████████████████████▉                                                           | 36/133 [00:19<00:51,  1.89it/s]"
     ]
    },
    {
     "name": "stdout",
     "output_type": "stream",
     "text": [
      "'colors' for {'GroupName': 'Patient Data', 'GlyphGeometriesURL': 'Heat_maps/discrete_points_normalized/ra_points_3.json', 'MorphColours': False, 'MorphNormals': False, 'MorphVertices': False, 'RegionPath': 'Right Axilla', 'Type': 'Glyph', 'URL': 'Heat_maps/discrete_points_normalized/ra_points_2.json'}\n"
     ]
    },
    {
     "name": "stderr",
     "output_type": "stream",
     "text": [
      " 29%|███████████████████████▏                                                         | 38/133 [00:20<00:44,  2.14it/s]"
     ]
    },
    {
     "name": "stdout",
     "output_type": "stream",
     "text": [
      "'colors' for {'GroupName': 'Patient Data', 'GlyphGeometriesURL': 'Heat_maps/discrete_points_normalized/ri_points_3.json', 'MorphColours': False, 'MorphNormals': False, 'MorphVertices': False, 'RegionPath': 'Right Groin', 'Type': 'Glyph', 'URL': 'Heat_maps/discrete_points_normalized/ri_points_2.json'}\n"
     ]
    },
    {
     "name": "stderr",
     "output_type": "stream",
     "text": [
      " 30%|████████████████████████▎                                                        | 40/133 [00:21<00:41,  2.23it/s]"
     ]
    },
    {
     "name": "stdout",
     "output_type": "stream",
     "text": [
      "'colors' for {'GroupName': 'Patient Data', 'GlyphGeometriesURL': 'Heat_maps/discrete_points_normalized/li_points_3.json', 'MorphColours': False, 'MorphNormals': False, 'MorphVertices': False, 'RegionPath': 'Left Groin', 'Type': 'Glyph', 'URL': 'Heat_maps/discrete_points_normalized/li_points_2.json'}\n"
     ]
    },
    {
     "name": "stderr",
     "output_type": "stream",
     "text": [
      " 31%|████████████████████████▉                                                        | 41/133 [00:22<00:51,  1.79it/s]"
     ]
    },
    {
     "name": "stdout",
     "output_type": "stream",
     "text": [
      "'colors' for {'GroupName': 'Patient Data', 'GlyphGeometriesURL': 'Heat_maps/discrete_points_normalized/li_fre_3.json', 'MorphColours': False, 'MorphNormals': False, 'MorphVertices': False, 'RegionPath': 'Left Groin', 'Type': 'Glyph', 'URL': 'Heat_maps/discrete_points_normalized/li_fre_2.json'}\n"
     ]
    },
    {
     "name": "stderr",
     "output_type": "stream",
     "text": [
      " 36%|█████████████████████████████▏                                                   | 48/133 [00:24<00:32,  2.63it/s]"
     ]
    },
    {
     "name": "stdout",
     "output_type": "stream",
     "text": [
      "'colors' for {'GroupName': 'Patient Data', 'GlyphGeometriesURL': 'Heat_maps/discrete_points_normalized/posterior_points_3.json', 'MorphColours': False, 'MorphNormals': False, 'MorphVertices': False, 'RegionPath': 'Posterior Head', 'Type': 'Glyph', 'URL': 'Heat_maps/discrete_points_normalized/posterior_points_2.json'}\n"
     ]
    },
    {
     "name": "stderr",
     "output_type": "stream",
     "text": [
      " 38%|██████████████████████████████▍                                                  | 50/133 [00:25<00:32,  2.56it/s]"
     ]
    },
    {
     "name": "stdout",
     "output_type": "stream",
     "text": [
      "'colors' for {'GroupName': 'Patient Data', 'GlyphGeometriesURL': 'Heat_maps/discrete_points_normalized/anterior_points_3.json', 'MorphColours': False, 'MorphNormals': False, 'MorphVertices': False, 'RegionPath': 'Anterior Head', 'Type': 'Glyph', 'URL': 'Heat_maps/discrete_points_normalized/anterior_points_2.json'}\n"
     ]
    },
    {
     "name": "stderr",
     "output_type": "stream",
     "text": [
      " 59%|███████████████████████████████████████████████▌                                 | 78/133 [00:39<00:20,  2.75it/s]"
     ]
    },
    {
     "name": "stdout",
     "output_type": "stream",
     "text": [
      "'colors' for {'GroupName': 'Patient Data', 'GlyphGeometriesURL': 'Heat_maps/discrete_points_normalized/rsm_points_3.json', 'MorphColours': False, 'MorphNormals': False, 'MorphVertices': False, 'RegionPath': 'Right Submental', 'Type': 'Glyph', 'URL': 'Heat_maps/discrete_points_normalized/rsm_points_2.json'}\n",
      "'colors' for {'GroupName': 'Patient Data', 'GlyphGeometriesURL': 'Heat_maps/discrete_points_normalized/lsm_points_3.json', 'MorphColours': False, 'MorphNormals': False, 'MorphVertices': False, 'RegionPath': 'Left Submental', 'Type': 'Glyph', 'URL': 'Heat_maps/discrete_points_normalized/lsm_points_2.json'}\n"
     ]
    },
    {
     "name": "stderr",
     "output_type": "stream",
     "text": [
      "100%|████████████████████████████████████████████████████████████████████████████████| 133/133 [00:45<00:00,  2.93it/s]\n"
     ]
    },
    {
     "name": "stdout",
     "output_type": "stream",
     "text": [
      "'colors' for {'GroupName': 'Patient Data', 'GlyphGeometriesURL': 'Heat_maps/discrete_points_frequency/la_points_3.json', 'MorphColours': False, 'MorphNormals': False, 'MorphVertices': False, 'RegionPath': 'Left Axilla', 'Type': 'Glyph', 'URL': 'Heat_maps/discrete_points_normalized/la_points_2.json'}\n",
      "'colors' for {'GroupName': 'Patient Data', 'GlyphGeometriesURL': 'Heat_maps/discrete_points_frequency/ra_points_3.json', 'MorphColours': False, 'MorphNormals': False, 'MorphVertices': False, 'RegionPath': 'Right Axilla', 'Type': 'Glyph', 'URL': 'Heat_maps/discrete_points_normalized/ra_points_2.json'}\n",
      "'colors' for {'GroupName': 'Patient Data', 'GlyphGeometriesURL': 'Heat_maps/discrete_points_frequency/ri_points_3.json', 'MorphColours': False, 'MorphNormals': False, 'MorphVertices': False, 'RegionPath': 'Right Groin', 'Type': 'Glyph', 'URL': 'Heat_maps/discrete_points_normalized/ri_points_2.json'}\n",
      "'colors' for {'GroupName': 'Patient Data', 'GlyphGeometriesURL': 'Heat_maps/discrete_points_frequency/li_points_3.json', 'MorphColours': False, 'MorphNormals': False, 'MorphVertices': False, 'RegionPath': 'Left Groin', 'Type': 'Glyph', 'URL': 'Heat_maps/discrete_points_normalized/li_points_2.json'}\n",
      "'colors' for {'GroupName': 'Patient Data', 'GlyphGeometriesURL': 'Heat_maps/discrete_points_frequency/li_fre_3.json', 'MorphColours': False, 'MorphNormals': False, 'MorphVertices': False, 'RegionPath': 'Left Groin', 'Type': 'Glyph', 'URL': 'Heat_maps/discrete_points_normalized/li_fre_2.json'}\n",
      "'colors' for {'GroupName': 'Patient Data', 'GlyphGeometriesURL': 'Heat_maps/discrete_points_frequency/posterior_fre_3.json', 'MorphColours': False, 'MorphNormals': False, 'MorphVertices': False, 'RegionPath': 'Posterior Head', 'Type': 'Glyph', 'URL': 'Heat_maps/discrete_points_frequency/posterior_fre_2.json'}\n",
      "'colors' for {'GroupName': 'Patient Data', 'GlyphGeometriesURL': 'Heat_maps/discrete_points_frequency/anterior_fre_3.json', 'MorphColours': False, 'MorphNormals': False, 'MorphVertices': False, 'RegionPath': 'Anterior Head', 'Type': 'Glyph', 'URL': 'Heat_maps/discrete_points_frequency/anterior_fre_2.json'}\n",
      "'colors' for {'GroupName': 'Patient Data', 'GlyphGeometriesURL': 'Heat_maps/discrete_points_frequency/lsm_fre_3.json', 'MorphColours': False, 'MorphNormals': False, 'MorphVertices': False, 'RegionPath': 'Left Submental', 'Type': 'Glyph', 'URL': 'Heat_maps/discrete_points_normalized/lsm_points_2.json'}\n",
      "'colors' for {'GroupName': 'Patient Data', 'GlyphGeometriesURL': 'Heat_maps/discrete_points_frequency/rsm_fre_3.json', 'MorphColours': False, 'MorphNormals': False, 'MorphVertices': False, 'RegionPath': 'Right Submental', 'Type': 'Glyph', 'URL': 'Heat_maps/discrete_points_normalized/rsm_points_2.json'}\n"
     ]
    },
    {
     "name": "stderr",
     "output_type": "stream",
     "text": [
      " 33%|███████████████████████████▋                                                       | 4/12 [00:00<00:00, 37.22it/s]"
     ]
    },
    {
     "name": "stdout",
     "output_type": "stream",
     "text": [
      "[Errno 2] No such file or directory: 'public/data/Heat_maps/Sub_fields/liei_points_2.json'\n",
      "[Errno 2] No such file or directory: 'public/data/Heat_maps/Sub_fields/lif_points_2.json'\n",
      "[Errno 2] No such file or directory: 'public/data/Heat_maps/Sub_fields/lii_points_2.json'\n",
      "[Errno 2] No such file or directory: 'public/data/Heat_maps/Sub_fields/laa_points_2.json'\n",
      "[Errno 2] No such file or directory: 'public/data/Heat_maps/Sub_fields/lam_points_2.json'\n",
      "[Errno 2] No such file or directory: 'public/data/Heat_maps/Sub_fields/lap_points_2.json'\n"
     ]
    },
    {
     "name": "stderr",
     "output_type": "stream",
     "text": [
      "100%|██████████████████████████████████████████████████████████████████████████████████| 12/12 [00:00<00:00, 35.37it/s]"
     ]
    },
    {
     "name": "stdout",
     "output_type": "stream",
     "text": [
      "[Errno 2] No such file or directory: 'public/data/Heat_maps/Sub_fields/riei_points_2.json'\n",
      "[Errno 2] No such file or directory: 'public/data/Heat_maps/Sub_fields/rif_points_2.json'\n",
      "[Errno 2] No such file or directory: 'public/data/Heat_maps/Sub_fields/rii_points_2.json'\n",
      "[Errno 2] No such file or directory: 'public/data/Heat_maps/Sub_fields/raa_points_2.json'\n",
      "[Errno 2] No such file or directory: 'public/data/Heat_maps/Sub_fields/ram_points_2.json'\n",
      "[Errno 2] No such file or directory: 'public/data/Heat_maps/Sub_fields/rap_points_2.json'\n",
      "Number of heatmaps: 50\n"
     ]
    },
    {
     "name": "stderr",
     "output_type": "stream",
     "text": [
      "\n"
     ]
    },
    {
     "name": "stdout",
     "output_type": "stream",
     "text": [
      "Number of frequency discrete points: 41/77\n",
      "['1 Draining Node Fields', '1 Draining Node Fields Frequency', '2 Or More Draining Node Fields', '2 Or More Draining Node Fields Frequency', '3 Or More Draining Node Fields', '3 Or More Draining Node Fields Frequency', '4 Or More Draining Node Fields', '4 Or More Draining Node Fields Frequency', 'All Patient Data Frequency', 'Anterior Head', 'Left Axilla', 'Left Axilla/Sub-Node Fields Laa Frequency', 'Left Axilla/Sub-Node Fields Lam Frequency', 'Left Axilla/Sub-Node Fields Lap Frequency', 'Left Cervical Level I', 'Left Cervical Level I Frequency', 'Left Cervical Level II', 'Left Cervical Level II Frequency', 'Left Cervical Level III', 'Left Cervical Level III Frequency', 'Left Cervical Level IV', 'Left Cervical Level IV Frequency', 'Left Cervical Level V', 'Left Cervical Level V Frequency', 'Left Epitrochlear', 'Left Epitrochlear Frequency', 'Left Groin', 'Left Groin/Sub-Node Fields Liei Frequency', 'Left Groin/Sub-Node Fields Lif Frequency', 'Left Groin/Sub-Node Fields Lii Frequency', 'Left Occipital', 'Left Occipital Frequency', 'Left Popliteal', 'Left Popliteal Frequency', 'Left Postauricular', 'Left Postauricular Frequency', 'Left Preauricular', 'Left Preauricular Frequency', 'Left Submental', 'Left Supraclavicular Fossa', 'Left Supraclavicular Fossa Frequency', 'Left Triangular Intermuscular Space', 'Left Triangular Intermuscular Space Frequency', 'Posterior Head', 'Right Axilla', 'Right Axilla/Sub-Node Fields Raa Frequency', 'Right Axilla/Sub-Node Fields Ram Frequency', 'Right Axilla/Sub-Node Fields Rap Frequency', 'Right Cervical Level I', 'Right Cervical Level I Frequency', 'Right Cervical Level II', 'Right Cervical Level II Frequency', 'Right Cervical Level III', 'Right Cervical Level III Frequency', 'Right Cervical Level IV', 'Right Cervical Level IV Frequency', 'Right Cervical Level V', 'Right Cervical Level V Frequency', 'Right Epitrochlear', 'Right Epitrochlear Frequency', 'Right Groin', 'Right Groin/Sub-Node Fields Riei Frequency', 'Right Groin/Sub-Node Fields Rif Frequency', 'Right Groin/Sub-Node Fields Rii Frequency', 'Right Occipital', 'Right Occipital Frequency', 'Right Popliteal', 'Right Popliteal Frequency', 'Right Postauricular', 'Right Postauricular Frequency', 'Right Preauricular', 'Right Preauricular Frequency', 'Right Submental', 'Right Supraclavicular Fossa', 'Right Supraclavicular Fossa Frequency', 'Right Triangular Intermuscular Space', 'Right Triangular Intermuscular Space Frequency']\n",
      "Missing normalised for Left Axilla/Sub-Node Fields Lal\n",
      "Missing frequency for Left Axilla/Sub-Node Fields Lal\n",
      "Missing normalised for Right Axilla/Sub-Node Fields Ral\n",
      "Missing frequency for Right Axilla/Sub-Node Fields Ral\n",
      "Missing frequency for Left Axilla\n",
      "Missing normalised for Left Groin/Sub-Node Fields Liei\n",
      "Missing normalised for Left Groin/Sub-Node Fields Lif\n",
      "Missing normalised for Left Groin/Sub-Node Fields Lii\n",
      "Missing normalised for Right Groin/Sub-Node Fields Riei\n",
      "Missing normalised for Right Groin/Sub-Node Fields Rif\n",
      "Missing normalised for Right Groin/Sub-Node Fields Rii\n",
      "Missing normalised for Left Axilla/Sub-Node Fields Laa\n",
      "Missing normalised for Left Axilla/Sub-Node Fields Lam\n",
      "Missing normalised for Left Axilla/Sub-Node Fields Lap\n",
      "Missing normalised for Right Axilla/Sub-Node Fields Raa\n",
      "Missing normalised for Right Axilla/Sub-Node Fields Ram\n",
      "Missing normalised for Right Axilla/Sub-Node Fields Rap\n",
      "Missing frequency for Right Axilla\n",
      "Missing frequency for Right Groin\n",
      "Missing frequency for Left Groin\n",
      "Missing frequency for Posterior Head\n",
      "Missing frequency for Anterior Head\n",
      "Missing frequency for Left Submental\n",
      "Missing frequency for Right Submental\n"
     ]
    }
   ],
   "source": [
    "#!/usr/bin/env python3\n",
    "import os\n",
    "import json\n",
    "import numpy as np\n",
    "import trimesh\n",
    "from pathlib import Path\n",
    "from tqdm import tqdm\n",
    "import pandas as pd\n",
    "\n",
    "heat_maps_verts_colors = {}\n",
    "json_heatmaps_dir = './public/data/'\n",
    "\n",
    "with open(\"public/data/heat_maps.json\") as f:\n",
    "    elems = json.load(f)\n",
    "\n",
    "discrete_points_normalized = {}\n",
    "\n",
    "for elem in tqdm(elems):\n",
    "    try:\n",
    "        if elem[\"Type\"] == \"Surfaces\":\n",
    "            name = elem.get(\"RegionPath\", \"\") + \" \" + elem.get(\"GroupName\", \"\")\n",
    "            name = name.replace(\"Heat Map\", \"\").strip()\n",
    "            file = json_heatmaps_dir + elem[\"URL\"]\n",
    "            with open(file) as f:\n",
    "                data = json.load(f)\n",
    "                heat_maps_verts_colors[name] = data['colors']\n",
    "        elif elem[\"Type\"] == \"Glyph\":\n",
    "            RegionPath = elem.get(\"RegionPath\", \"\")\n",
    "            file = json_heatmaps_dir + elem[\"URL\"]\n",
    "            if \"fre\" in file and \"Frequency\" not in RegionPath:\n",
    "                RegionPath += \" Frequency\"\n",
    "                #print(RegionPath)\n",
    "            if RegionPath not in discrete_points_normalized:\n",
    "                with open(file) as f:\n",
    "                    data = json.load(f)\n",
    "                    pos = np.reshape(data[\"positions\"][\"0\"], (-1, 3)).tolist()\n",
    "                    #scale = np.reshape(data[\"scale\"][\"0\"], (-1, 3))\n",
    "                    #scale = scale[:,1].tolist()\n",
    "                    discrete_points_normalized[RegionPath] = {\n",
    "                        \"positions\": pos,\n",
    "                        \"colors\": data[\"colors\"][\"0\"],\n",
    "                        #\"scales\": scale,\n",
    "                    }\n",
    "            file = os.path.basename(file)\n",
    "            file = \"public/data/Heat_maps/discrete_points_frequency/\" + file.replace(\"nor\", \"fre\").replace(\"_points\", \"_fre_points\").replace(\"_pointys\", \"\").replace(\"NFs\", \"NFS\").replace(\"_fre_fre\", \"_fre\")\n",
    "            if not os.path.isfile(file):\n",
    "                file = file.replace(\"_fre_points\", \"_fre\")\n",
    "            #print(file, os.path.isfile(file), RegionPath)\n",
    "            if os.path.isfile(file) and \"fre\" in file and \"Frequency\" not in RegionPath:\n",
    "                RegionPath += \" Frequency\"\n",
    "                #print(RegionPath)\n",
    "                if RegionPath not in discrete_points_normalized:\n",
    "                    with open(file) as f:\n",
    "                        data = json.load(f)\n",
    "                        pos = np.reshape(data[\"positions\"][\"0\"], (-1, 3)).tolist()\n",
    "                        #scale = np.reshape(data[\"scale\"][\"0\"], (-1, 3))\n",
    "                        #scale = scale[:,1].tolist()\n",
    "                        discrete_points_normalized[RegionPath] = {\n",
    "                            \"positions\": pos,\n",
    "                            \"colors\": data[\"colors\"][\"0\"],\n",
    "                            #\"scales\": scale,\n",
    "                        }\n",
    "    except Exception as e:\n",
    "        print(f\"{e} for {elem}\")\n",
    "        #raise\n",
    "\n",
    "for code in tqdm([\"Liei\", \"Lif\", \"Lii\", \"Laa\", \"Lam\", \"Lap\", \"Riei\", \"Rif\", \"Rii\", \"Raa\", \"Ram\", \"Rap\"]):\n",
    "    if code[0:2] == \"Li\":\n",
    "        RegionPath = \"Left Groin/Sub-Node Fields \" + code\n",
    "    elif code[0:2] == \"Ri\":\n",
    "        RegionPath = \"Right Groin/Sub-Node Fields \" + code\n",
    "    elif code[0:2] == \"La\":\n",
    "        RegionPath = \"Left Axilla/Sub-Node Fields \" + code\n",
    "    elif code[0:2] == \"Ra\":\n",
    "        RegionPath = \"Right Axilla/Sub-Node Fields \" + code\n",
    "    else:\n",
    "        raise ValueError(f\"Unknown code {code}\")\n",
    "    file = f\"public/data/Heat_maps/Sub_fields/{code.lower()}_points_2.json\"\n",
    "    try:\n",
    "        with open(file) as f:\n",
    "            data = json.load(f)\n",
    "            pos = np.reshape(data[\"positions\"][\"0\"], (-1, 3)).tolist()\n",
    "            discrete_points_normalized[RegionPath] = {\n",
    "                \"positions\": pos,\n",
    "                \"colors\": data[\"colors\"][\"0\"],\n",
    "            }\n",
    "    except Exception as e:\n",
    "        print(e)\n",
    "    file = f\"public/data/Heat_maps/discrete_points_frequency/{code.lower()}_fre_points_2.json\"\n",
    "    RegionPath += \" Frequency\"\n",
    "    try:\n",
    "        with open(file) as f:\n",
    "            data = json.load(f)\n",
    "            pos = np.reshape(data[\"positions\"][\"0\"], (-1, 3)).tolist()\n",
    "            discrete_points_normalized[RegionPath] = {\n",
    "                \"positions\": pos,\n",
    "                \"colors\": data[\"colors\"][\"0\"],\n",
    "            }\n",
    "    except Exception as e:\n",
    "        print(e)\n",
    "\n",
    "print(f\"Number of heatmaps: {len(heat_maps_verts_colors)}\")\n",
    "json.dump(heat_maps_verts_colors, open(\"heat_maps_verts_colors.json\", 'w'))\n",
    "\n",
    "nf = sum(\"Frequency\" in k for k in discrete_points_normalized)\n",
    "print(f\"Number of frequency discrete points: {nf}/{len(discrete_points_normalized)}\")\n",
    "\n",
    "json.dump(discrete_points_normalized, open(\"discrete_points_normalized.json\", 'w'))\n",
    "\n",
    "print(sorted(discrete_points_normalized.keys()))\n",
    "for k in heat_maps_verts_colors:\n",
    "    if k not in discrete_points_normalized:\n",
    "        print(f\"Missing normalised for {k}\")\n",
    "    if k + \" Frequency\" not in discrete_points_normalized:\n",
    "        print(f\"Missing frequency for {k}\")"
   ]
  },
  {
   "cell_type": "code",
   "execution_count": 42,
   "id": "b533f43d-3d00-4dc3-981b-37c9ffd30831",
   "metadata": {},
   "outputs": [
    {
     "name": "stderr",
     "output_type": "stream",
     "text": [
      "  0%|                                                                                          | 0/133 [00:00<?, ?it/s]"
     ]
    },
    {
     "name": "stdout",
     "output_type": "stream",
     "text": [
      "[Errno 2] No such file or directory: './public/data/Heat_maps/discrete_points_normalized/lal_points_2.json' for {'GroupName': 'Patient Data', 'GlyphGeometriesURL': 'Heat_maps/discrete_points_normalized/lal_points_3.json', 'MorphColours': False, 'MorphNormals': False, 'MorphVertices': False, 'RegionPath': 'Left Axilla/Sub-Node Fields/Lal', 'Type': 'Glyph', 'URL': 'Heat_maps/discrete_points_normalized/lal_points_2.json'}\n"
     ]
    },
    {
     "name": "stderr",
     "output_type": "stream",
     "text": [
      "  2%|█▏                                                                                | 2/133 [00:00<00:31,  4.21it/s]"
     ]
    },
    {
     "name": "stdout",
     "output_type": "stream",
     "text": [
      "[Errno 2] No such file or directory: './public/data/Heat_maps/discrete_points_normalized/ral_points_2.json' for {'GroupName': 'Patient Data', 'GlyphGeometriesURL': 'Heat_maps/discrete_points_normalized/ral_points_3.json', 'MorphColours': False, 'MorphNormals': False, 'MorphVertices': False, 'RegionPath': 'Right Axilla/Sub-Node Fields/Ral', 'Type': 'Glyph', 'URL': 'Heat_maps/discrete_points_normalized/ral_points_2.json'}\n"
     ]
    },
    {
     "name": "stderr",
     "output_type": "stream",
     "text": [
      "100%|████████████████████████████████████████████████████████████████████████████████| 133/133 [00:25<00:00,  5.20it/s]\n",
      "100%|██████████████████████████████████████████████████████████████████████████████████| 14/14 [00:00<00:00, 20.09it/s]\n"
     ]
    },
    {
     "name": "stdout",
     "output_type": "stream",
     "text": [
      "Number of heatmaps: 50\n",
      "Number of frequency discrete points: 51/101\n",
      "['1 Draining Node Fields', '1 Draining Node Fields Frequency', '2 Or More Draining Node Fields', '2 Or More Draining Node Fields Frequency', '3 Or More Draining Node Fields', '3 Or More Draining Node Fields Frequency', '4 Or More Draining Node Fields', '4 Or More Draining Node Fields Frequency', 'All Patient Data Frequency', 'Anterior Head', 'Anterior Head Frequency', 'Left Axilla', 'Left Axilla Frequency', 'Left Axilla/Sub-Node Fields Laa', 'Left Axilla/Sub-Node Fields Laa Frequency', 'Left Axilla/Sub-Node Fields Lal', 'Left Axilla/Sub-Node Fields Lal Frequency', 'Left Axilla/Sub-Node Fields Lam', 'Left Axilla/Sub-Node Fields Lam Frequency', 'Left Axilla/Sub-Node Fields Lap', 'Left Axilla/Sub-Node Fields Lap Frequency', 'Left Cervical Level I', 'Left Cervical Level I Frequency', 'Left Cervical Level II', 'Left Cervical Level II Frequency', 'Left Cervical Level III', 'Left Cervical Level III Frequency', 'Left Cervical Level IV', 'Left Cervical Level IV Frequency', 'Left Cervical Level V', 'Left Cervical Level V Frequency', 'Left Epitrochlear', 'Left Epitrochlear Frequency', 'Left Groin', 'Left Groin Frequency', 'Left Groin/Sub-Node Fields Liei', 'Left Groin/Sub-Node Fields Liei Frequency', 'Left Groin/Sub-Node Fields Lif', 'Left Groin/Sub-Node Fields Lif Frequency', 'Left Groin/Sub-Node Fields Lii', 'Left Groin/Sub-Node Fields Lii Frequency', 'Left Occipital', 'Left Occipital Frequency', 'Left Popliteal', 'Left Popliteal Frequency', 'Left Postauricular', 'Left Postauricular Frequency', 'Left Preauricular', 'Left Preauricular Frequency', 'Left Submental', 'Left Submental Frequency', 'Left Supraclavicular Fossa', 'Left Supraclavicular Fossa Frequency', 'Left Triangular Intermuscular Space', 'Left Triangular Intermuscular Space Frequency', 'Posterior Head', 'Posterior Head Frequency', 'Right Axilla', 'Right Axilla Frequency', 'Right Axilla/Sub-Node Fields Raa', 'Right Axilla/Sub-Node Fields Raa Frequency', 'Right Axilla/Sub-Node Fields Ral', 'Right Axilla/Sub-Node Fields Ral Frequency', 'Right Axilla/Sub-Node Fields Ram', 'Right Axilla/Sub-Node Fields Ram Frequency', 'Right Axilla/Sub-Node Fields Rap', 'Right Axilla/Sub-Node Fields Rap Frequency', 'Right Cervical Level I', 'Right Cervical Level I Frequency', 'Right Cervical Level II', 'Right Cervical Level II Frequency', 'Right Cervical Level III', 'Right Cervical Level III Frequency', 'Right Cervical Level IV', 'Right Cervical Level IV Frequency', 'Right Cervical Level V', 'Right Cervical Level V Frequency', 'Right Epitrochlear', 'Right Epitrochlear Frequency', 'Right Groin', 'Right Groin Frequency', 'Right Groin/Sub-Node Fields Riei', 'Right Groin/Sub-Node Fields Riei Frequency', 'Right Groin/Sub-Node Fields Rif', 'Right Groin/Sub-Node Fields Rif Frequency', 'Right Groin/Sub-Node Fields Rii', 'Right Groin/Sub-Node Fields Rii Frequency', 'Right Occipital', 'Right Occipital Frequency', 'Right Popliteal', 'Right Popliteal Frequency', 'Right Postauricular', 'Right Postauricular Frequency', 'Right Preauricular', 'Right Preauricular Frequency', 'Right Submental', 'Right Submental Frequency', 'Right Supraclavicular Fossa', 'Right Supraclavicular Fossa Frequency', 'Right Triangular Intermuscular Space', 'Right Triangular Intermuscular Space Frequency']\n"
     ]
    }
   ],
   "source": [
    "#!/usr/bin/env python3 \n",
    "\n",
    "import os \n",
    "\n",
    "import json \n",
    "\n",
    "import numpy as np \n",
    "\n",
    "import trimesh \n",
    "\n",
    "from pathlib import Path \n",
    "\n",
    "from tqdm import tqdm \n",
    "\n",
    "import pandas as pd \n",
    "\n",
    "  \n",
    "\n",
    "heat_maps_verts_colors = {} \n",
    "\n",
    "json_heatmaps_dir = './public/data/' \n",
    "\n",
    "  \n",
    "\n",
    "with open(\"public/data/heat_maps.json\") as f: \n",
    "\n",
    "    elems = json.load(f) \n",
    "\n",
    "  \n",
    "\n",
    "discrete_points_normalized = {} \n",
    "\n",
    "  \n",
    "\n",
    "for elem in tqdm(elems): \n",
    "\n",
    "    try: \n",
    "\n",
    "        if elem[\"Type\"] == \"Surfaces\": \n",
    "\n",
    "            name = elem.get(\"RegionPath\", \"\") + \" \" + elem.get(\"GroupName\", \"\") \n",
    "\n",
    "            name = name.replace(\"Heat Map\", \"\").strip() \n",
    "\n",
    "            file = json_heatmaps_dir + elem[\"URL\"] \n",
    "\n",
    "            with open(file) as f: \n",
    "\n",
    "                data = json.load(f) \n",
    "\n",
    "                heat_maps_verts_colors[name] = data['colors'] \n",
    "\n",
    "        elif elem[\"Type\"] == \"Glyph\": \n",
    "\n",
    "            RegionPath = elem.get(\"RegionPath\", \"\") \n",
    "\n",
    "            RegionPath = RegionPath.replace(\"Sub-Node Fields/\", \"Sub-Node Fields \") \n",
    "\n",
    "            file = json_heatmaps_dir + elem[\"URL\"] \n",
    "\n",
    "            if \"fre\" in file and \"Frequency\" not in RegionPath: \n",
    "\n",
    "                RegionPath += \" Frequency\" \n",
    "\n",
    "                #print(RegionPath) \n",
    "\n",
    "            if RegionPath not in discrete_points_normalized: \n",
    "\n",
    "                with open(file) as f: \n",
    "\n",
    "                    data = json.load(f) \n",
    "\n",
    "                    pos = np.reshape(data[\"positions\"][\"0\"], (-1, 3)).tolist() \n",
    "\n",
    "                    #scale = np.reshape(data[\"scale\"][\"0\"], (-1, 3)) \n",
    "\n",
    "                    #scale = scale[:,1].tolist() \n",
    "\n",
    "                    discrete_points_normalized[RegionPath] = { \n",
    "\n",
    "                        \"positions\": pos, \n",
    "\n",
    "                        \"colors\": data[\"colors\"][\"0\"] if \"colors\" in data else [], \n",
    "\n",
    "                        #\"scales\": scale, \n",
    "\n",
    "                    } \n",
    "\n",
    "            file = os.path.basename(file) \n",
    "\n",
    "            file = \"public/data/Heat_maps/discrete_points_frequency/\" + file.replace(\"nor\", \"fre\").replace(\"_points\", \"_fre_points\").replace(\"_pointys\", \"\").replace(\"NFs\", \"NFS\").replace(\"_fre_fre\", \"_fre\") \n",
    "\n",
    "            if not os.path.isfile(file): \n",
    "\n",
    "                file = file.replace(\"_fre_points\", \"_fre\") \n",
    "\n",
    "            #print(file, os.path.isfile(file), RegionPath) \n",
    "\n",
    "            if os.path.isfile(file) and \"fre\" in file and \"Frequency\" not in RegionPath: \n",
    "\n",
    "                RegionPath += \" Frequency\" \n",
    "\n",
    "                #print(RegionPath) \n",
    "\n",
    "                if RegionPath not in discrete_points_normalized: \n",
    "\n",
    "                    with open(file) as f: \n",
    "\n",
    "                        data = json.load(f) \n",
    "\n",
    "                        pos = np.reshape(data[\"positions\"][\"0\"], (-1, 3)).tolist() \n",
    "\n",
    "                        #scale = np.reshape(data[\"scale\"][\"0\"], (-1, 3)) \n",
    "\n",
    "                        #scale = scale[:,1].tolist() \n",
    "\n",
    "                        discrete_points_normalized[RegionPath] = { \n",
    "\n",
    "                            \"positions\": pos, \n",
    "\n",
    "                            \"colors\": data[\"colors\"][\"0\"] if \"colors\" in data else [], \n",
    "\n",
    "                            #\"scales\": scale, \n",
    "\n",
    "                        } \n",
    "\n",
    "    except Exception as e: \n",
    "\n",
    "        print(f\"{e} for {elem}\") \n",
    "\n",
    "        #raise \n",
    "\n",
    "  \n",
    "\n",
    "for code in tqdm([\"Liei\", \"Lif\", \"Lii\", \"Laa\", \"Lam\", \"Lap\", \"Lal\", \"Riei\", \"Rif\", \"Rii\", \"Raa\", \"Ram\", \"Rap\", \"Ral\"]): \n",
    "\n",
    "    if code[0:2] == \"Li\": \n",
    "\n",
    "        RegionPath = \"Left Groin/Sub-Node Fields \" + code \n",
    "\n",
    "    elif code[0:2] == \"Ri\": \n",
    "\n",
    "        RegionPath = \"Right Groin/Sub-Node Fields \" + code \n",
    "\n",
    "    elif code[0:2] == \"La\": \n",
    "\n",
    "        RegionPath = \"Left Axilla/Sub-Node Fields \" + code \n",
    "\n",
    "    elif code[0:2] == \"Ra\": \n",
    "\n",
    "        RegionPath = \"Right Axilla/Sub-Node Fields \" + code \n",
    "\n",
    "    else: \n",
    "\n",
    "        raise ValueError(f\"Unknown code {code}\") \n",
    "\n",
    "    file = f\"public/data/Heat_maps/Sub_fields/Normalized/{code.lower()}_points_2.json\" \n",
    "\n",
    "    try: \n",
    "\n",
    "        with open(file) as f: \n",
    "\n",
    "            data = json.load(f) \n",
    "\n",
    "            pos = np.reshape(data[\"positions\"][\"0\"], (-1, 3)).tolist() \n",
    "\n",
    "            discrete_points_normalized[RegionPath] = { \n",
    "\n",
    "                \"positions\": pos, \n",
    "\n",
    "                \"colors\": data[\"colors\"][\"0\"], \n",
    "\n",
    "            } \n",
    "\n",
    "    except Exception as e: \n",
    "\n",
    "        print(e) \n",
    "\n",
    "    file = f\"public/data/Heat_maps/Sub_fields/frequency/{code.lower()}_fre_points_2.json\" \n",
    "\n",
    "    RegionPath += \" Frequency\" \n",
    "\n",
    "    try: \n",
    "\n",
    "        with open(file) as f: \n",
    "\n",
    "            data = json.load(f) \n",
    "\n",
    "            pos = np.reshape(data[\"positions\"][\"0\"], (-1, 3)).tolist() \n",
    "\n",
    "            discrete_points_normalized[RegionPath] = { \n",
    "\n",
    "                \"positions\": pos, \n",
    "\n",
    "                \n",
    "\n",
    "            } \n",
    "\n",
    "    except Exception as e: \n",
    "\n",
    "        print(e) \n",
    "\n",
    "  \n",
    "\n",
    "print(f\"Number of heatmaps: {len(heat_maps_verts_colors)}\") \n",
    "\n",
    "json.dump(heat_maps_verts_colors, open(\"heat_maps_verts_colors.json\", 'w')) \n",
    "\n",
    "  \n",
    "\n",
    "nf = sum(\"Frequency\" in k for k in discrete_points_normalized) \n",
    "\n",
    "print(f\"Number of frequency discrete points: {nf}/{len(discrete_points_normalized)}\") \n",
    "\n",
    "  \n",
    "\n",
    "json.dump(discrete_points_normalized, open(\"discrete_points_normalized.json\", 'w')) \n",
    "\n",
    "  \n",
    "\n",
    "print(sorted(discrete_points_normalized.keys())) \n",
    "\n",
    "for k in heat_maps_verts_colors: \n",
    "\n",
    "    if k not in discrete_points_normalized: \n",
    "\n",
    "        print(f\"Missing normalised for {k}\") \n",
    "\n",
    "    if k + \" Frequency\" not in discrete_points_normalized: \n",
    "\n",
    "        print(f\"Missing frequency for {k}\") "
   ]
  },
  {
   "cell_type": "code",
   "execution_count": null,
   "id": "1d485757-33a7-49e1-af4d-21f5d253d315",
   "metadata": {},
   "outputs": [],
   "source": []
  },
  {
   "cell_type": "code",
   "execution_count": null,
   "id": "bfdd1ac1-4055-41eb-9695-3c49f789adab",
   "metadata": {},
   "outputs": [],
   "source": []
  }
 ],
 "metadata": {
  "kernelspec": {
   "display_name": "Python 3 (ipykernel)",
   "language": "python",
   "name": "python3"
  },
  "language_info": {
   "codemirror_mode": {
    "name": "ipython",
    "version": 3
   },
   "file_extension": ".py",
   "mimetype": "text/x-python",
   "name": "python",
   "nbconvert_exporter": "python",
   "pygments_lexer": "ipython3",
   "version": "3.8.0"
  }
 },
 "nbformat": 4,
 "nbformat_minor": 5
}
