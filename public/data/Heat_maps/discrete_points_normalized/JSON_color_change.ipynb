{
 "cells": [
  {
   "cell_type": "code",
   "execution_count": 1,
   "id": "2aa2db3c-c518-4a46-80e4-f66a0ea0690a",
   "metadata": {},
   "outputs": [
    {
     "name": "stdout",
     "output_type": "stream",
     "text": [
      "Updated 1NFS_fre_3.json\n",
      "Updated 1NFS_nor_3.json\n",
      "Updated 1NFs_nor_points_3.json\n",
      "Updated 2NFS_fre_3.json\n",
      "Updated 2NFS_nor_3.json\n",
      "Updated 2NFs_nor_points_3.json\n",
      "Updated 3NFS_fre_3.json\n",
      "Updated 3NFS_nor_3.json\n",
      "Updated 3NFs_nor_points_3.json\n",
      "Updated 4NFS_fre_3.json\n",
      "Updated 4NFS_nor_3.json\n",
      "Updated 4NFs_nor_points_3.json\n",
      "Updated anterior_head_nor_3.json\n",
      "Updated la_fre_3.json\n",
      "Updated la_nor_3.json\n",
      "Updated la_points_3.json\n",
      "Updated lc1_points_3.json\n",
      "Updated lc2_points_3.json\n",
      "Updated lc3_points_3.json\n",
      "Updated lc4_points_3.json\n",
      "Updated lc5_points_3.json\n",
      "Updated lepit_points_3.json\n",
      "Updated li_fre_3.json\n",
      "Updated li_nor_3.json\n",
      "Updated li_points_3.json\n",
      "Updated lo_points_3.json\n",
      "Updated lpop_points_3.json\n",
      "Updated lposta_points_3.json\n",
      "Updated lprea_points_3.json\n",
      "Updated lsc_points_3.json\n",
      "Updated ltis_points_3.json\n",
      "Updated posterior_head_nor_3.json\n",
      "Updated ra_fre_3.json\n",
      "Updated ra_nor_3.json\n",
      "Updated ra_points_3.json\n",
      "Updated rc1_points_3.json\n",
      "Updated rc2_points_3.json\n",
      "Updated rc3_points_3.json\n",
      "Updated rc4_points_3.json\n",
      "Updated rc5_points_3.json\n",
      "Updated repit_points_3.json\n",
      "Updated ri_fre_3.json\n",
      "Updated ri_nor_3.json\n",
      "Updated ri_points_3.json\n",
      "Updated ro_points_3.json\n",
      "Updated rpop_points_3.json\n",
      "Updated rpop_point_3.json\n",
      "Updated rposta_points_3.json\n",
      "Updated rprea_points_3.json\n",
      "Updated rsc_points_3.json\n",
      "Updated rtis_points_3.json\n",
      "Updated sm_pointys_3.json\n",
      "All applicable JSON files have been updated.\n"
     ]
    }
   ],
   "source": [
    "import os\n",
    "import json\n",
    "\n",
    "# Directory containing JSON files\n",
    "json_directory = 'Y:/Melanoma/Tharanga/Lancet_webtool_stats/JASON_Creation/formatting_tables/Test/Json_3_colorchange'\n",
    "\n",
    "# Iterate through all files in the directory\n",
    "for filename in os.listdir(json_directory):\n",
    "    if filename.endswith('_3.json'):\n",
    "        file_path = os.path.join(json_directory, filename)\n",
    "        \n",
    "        # Open and load the JSON file\n",
    "        with open(file_path, 'r') as json_file:\n",
    "            data = json.load(json_file)\n",
    "        \n",
    "        # Update the \"colorDiffuse\" value\n",
    "        if \"colorDiffuse\" in data:\n",
    "            data[\"colorDiffuse\"] = [1, 1, 1]\n",
    "        \n",
    "        # Write the updated data back to the JSON file\n",
    "        with open(file_path, 'w') as json_file:\n",
    "            json.dump(data, json_file, indent=2)\n",
    "        \n",
    "        print(f\"Updated {filename}\")\n",
    "\n",
    "print(\"All applicable JSON files have been updated.\")"
   ]
  },
  {
   "cell_type": "code",
   "execution_count": null,
   "id": "252aaa6a-7431-42b8-8d8f-ce71bd124d2a",
   "metadata": {},
   "outputs": [],
   "source": []
  }
 ],
 "metadata": {
  "kernelspec": {
   "display_name": "Python 3 (ipykernel)",
   "language": "python",
   "name": "python3"
  },
  "language_info": {
   "codemirror_mode": {
    "name": "ipython",
    "version": 3
   },
   "file_extension": ".py",
   "mimetype": "text/x-python",
   "name": "python",
   "nbconvert_exporter": "python",
   "pygments_lexer": "ipython3",
   "version": "3.11.1"
  }
 },
 "nbformat": 4,
 "nbformat_minor": 5
}
