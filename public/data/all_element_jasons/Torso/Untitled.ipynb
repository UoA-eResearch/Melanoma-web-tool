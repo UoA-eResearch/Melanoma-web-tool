{
 "cells": [
  {
   "cell_type": "code",
   "execution_count": 3,
   "id": "601eea9f",
   "metadata": {},
   "outputs": [],
   "source": [
    "import json\n",
    "import os\n",
    "\n",
    "def combine_json(main_file_name, child_file_name, output_file_name):\n",
    "    # Get the current directory\n",
    "    current_directory = os.getcwd()\n",
    "\n",
    "    # Construct full file paths\n",
    "    main_file_path = os.path.join(current_directory, main_file_name + '.json')\n",
    "    child_file_path = os.path.join(current_directory, child_file_name + '.json')\n",
    "    output_file_path = os.path.join(current_directory, output_file_name + '.json')\n",
    "\n",
    "    # Step 1: Read JSON files\n",
    "    with open(main_file_path, 'r') as main_file:\n",
    "        main_data = json.load(main_file)\n",
    "\n",
    "    with open(child_file_path, 'r') as child_file:\n",
    "        child_data = json.load(child_file)\n",
    "\n",
    "    # Step 3: Combine Dictionaries\n",
    "    combined_data = {**main_data, **child_data}\n",
    "\n",
    "    # Step 4: Write Combined JSON\n",
    "    with open(output_file_path, 'w') as output_file:\n",
    "        json.dump(combined_data, output_file, indent=2)\n",
    "\n",
    "# Example usage\n",
    "main_file_name = '253_1'\n",
    "child_file_name = 'aa_3'\n",
    "output_file_name = 'combined'\n",
    "\n",
    "combine_json(main_file_name, child_file_name, output_file_name)\n"
   ]
  },
  {
   "cell_type": "code",
   "execution_count": null,
   "id": "cb2966da",
   "metadata": {},
   "outputs": [],
   "source": []
  }
 ],
 "metadata": {
  "kernelspec": {
   "display_name": "Python 3 (ipykernel)",
   "language": "python",
   "name": "python3"
  },
  "language_info": {
   "codemirror_mode": {
    "name": "ipython",
    "version": 3
   },
   "file_extension": ".py",
   "mimetype": "text/x-python",
   "name": "python",
   "nbconvert_exporter": "python",
   "pygments_lexer": "ipython3",
   "version": "3.11.1"
  }
 },
 "nbformat": 4,
 "nbformat_minor": 5
}
